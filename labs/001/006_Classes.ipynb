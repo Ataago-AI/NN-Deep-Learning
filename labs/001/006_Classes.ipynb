{
 "cells": [
  {
   "cell_type": "markdown",
   "metadata": {},
   "source": [
    "# Classes"
   ]
  },
  {
   "cell_type": "markdown",
   "metadata": {},
   "source": [
    "Using a class instance as a structure or record "
   ]
  },
  {
   "cell_type": "code",
   "execution_count": 46,
   "metadata": {},
   "outputs": [
    {
     "name": "stdout",
     "output_type": "stream",
     "text": [
      "6.28\n",
      "31.400000000000002\n"
     ]
    }
   ],
   "source": [
    "class Circle:\n",
    "    def __init__(self):                 \n",
    "        self.radius = 1 # a new member variable called radius\n",
    "        \n",
    "my_circle = Circle()\n",
    "print(2 * 3.14 * my_circle.radius)\n",
    "\n",
    "my_circle.radius = 5\n",
    "print(2 * 3.14 * my_circle.radius)\n"
   ]
  },
  {
   "cell_type": "code",
   "execution_count": 47,
   "metadata": {
    "scrolled": true
   },
   "outputs": [
    {
     "name": "stdout",
     "output_type": "stream",
     "text": [
      "black\n"
     ]
    },
    {
     "ename": "AttributeError",
     "evalue": "'Circle' object has no attribute 'colour'",
     "output_type": "error",
     "traceback": [
      "\u001b[0;31m---------------------------------------------------------------------------\u001b[0m",
      "\u001b[0;31mAttributeError\u001b[0m                            Traceback (most recent call last)",
      "\u001b[0;32m<ipython-input-47-56e957b299d3>\u001b[0m in \u001b[0;36m<module>\u001b[0;34m\u001b[0m\n\u001b[1;32m      3\u001b[0m \u001b[0;34m\u001b[0m\u001b[0m\n\u001b[1;32m      4\u001b[0m \u001b[0mmy_circle2\u001b[0m \u001b[0;34m=\u001b[0m \u001b[0mCircle\u001b[0m\u001b[0;34m(\u001b[0m\u001b[0;34m)\u001b[0m\u001b[0;34m\u001b[0m\u001b[0;34m\u001b[0m\u001b[0m\n\u001b[0;32m----> 5\u001b[0;31m \u001b[0mprint\u001b[0m\u001b[0;34m(\u001b[0m\u001b[0mmy_circle2\u001b[0m\u001b[0;34m.\u001b[0m\u001b[0mcolour\u001b[0m\u001b[0;34m)\u001b[0m \u001b[0;31m# will fail\u001b[0m\u001b[0;34m\u001b[0m\u001b[0;34m\u001b[0m\u001b[0m\n\u001b[0m",
      "\u001b[0;31mAttributeError\u001b[0m: 'Circle' object has no attribute 'colour'"
     ]
    }
   ],
   "source": [
    "my_circle.colour = \"black\" # create a new member variable on the fly\n",
    "print(my_circle.colour)\n",
    "\n",
    "my_circle2 = Circle()\n",
    "print(my_circle2.colour) # will fail"
   ]
  },
  {
   "cell_type": "markdown",
   "metadata": {},
   "source": [
    "## Methods (i.e. member functions)"
   ]
  },
  {
   "cell_type": "code",
   "execution_count": 48,
   "metadata": {
    "scrolled": false
   },
   "outputs": [
    {
     "name": "stdout",
     "output_type": "stream",
     "text": [
      "28.27431\n",
      "28.27431\n"
     ]
    }
   ],
   "source": [
    "# E.g. __init__() and area()\n",
    "# self is the object that invokes the method function\n",
    "\n",
    "class Circle:\n",
    "    def __init__(self): # __init__ is class constructor\n",
    "        self.radius = 1\n",
    "    def area(self):     # __init__ is a method\n",
    "        return self.radius * self.radius * 3.14159\n",
    "\n",
    "c = Circle() # calls __init__()\n",
    "c.radius = 3\n",
    "print(c.area())\n",
    "\n",
    "# c.area() is equivalent to Circle.area(c)\n",
    "print(Circle.area(c))\n"
   ]
  },
  {
   "cell_type": "code",
   "execution_count": 49,
   "metadata": {
    "scrolled": true
   },
   "outputs": [
    {
     "name": "stdout",
     "output_type": "stream",
     "text": [
      "28.27431\n"
     ]
    }
   ],
   "source": [
    "# Similar to above, with argument passed to __init__()\n",
    "class Circle:\n",
    "    def __init__(self, radius):\n",
    "        self.radius = radius\n",
    "    def area(self):\n",
    "        return self.radius * self.radius * 3.14159\n",
    "    \n",
    "c2 = Circle(3) \n",
    "print(c2.area())"
   ]
  },
  {
   "cell_type": "markdown",
   "metadata": {},
   "source": [
    "## Class variables\n",
    "*  Variables that belong to the class and not to specific class instances (i.e. objects)"
   ]
  },
  {
   "cell_type": "code",
   "execution_count": 50,
   "metadata": {},
   "outputs": [
    {
     "name": "stdout",
     "output_type": "stream",
     "text": [
      "3.14159\n",
      "4\n"
     ]
    }
   ],
   "source": [
    "# E.g. Circle.pi\n",
    "class Circle:\n",
    "    pi = 3.14159\n",
    "    def __init__(self, radius):\n",
    "        self.radius = radius\n",
    "    def area(self):\n",
    "        return self.radius * self.radius * Circle.pi\n",
    "\n",
    "print(Circle.pi)\n",
    "Circle.pi = 4\n",
    "print(Circle.pi)"
   ]
  },
  {
   "cell_type": "code",
   "execution_count": 51,
   "metadata": {
    "scrolled": false
   },
   "outputs": [
    {
     "name": "stdout",
     "output_type": "stream",
     "text": [
      "3.14159\n",
      "<class '__main__.Circle'>\n",
      "<class '__main__.Circle'>\n",
      "3.14159\n"
     ]
    }
   ],
   "source": [
    "Circle.pi = 3.14159\n",
    "print(Circle.pi)\n",
    "\n",
    "c = Circle(3)\n",
    "\n",
    "\n",
    "print(Circle)\n",
    "print(c.__class__)\n",
    "print(c.__class__.pi)"
   ]
  },
  {
   "cell_type": "code",
   "execution_count": 53,
   "metadata": {
    "scrolled": true
   },
   "outputs": [
    {
     "name": "stdout",
     "output_type": "stream",
     "text": [
      "3.14\n",
      "3.14159\n",
      "3.14159\n"
     ]
    }
   ],
   "source": [
    "# An oddity with class variables\n",
    "class Circle:\n",
    "    pi = 3.14159\n",
    "    def __init__(self, radius):\n",
    "        self.radius = radius\n",
    "    def area(self):\n",
    "        return self.radius * self.radius * Circle.pi\n",
    "\n",
    "c1 = Circle(1)\n",
    "c2 = Circle(2)\n",
    "c1.pi = 3.14 # this will create a new member variable pi only appearing in c1 !!!\n",
    "print(c1.pi)\n",
    "print(c2.pi)\n",
    "print(Circle.pi)"
   ]
  },
  {
   "cell_type": "markdown",
   "metadata": {},
   "source": [
    "## Static methods"
   ]
  },
  {
   "cell_type": "code",
   "execution_count": 55,
   "metadata": {},
   "outputs": [],
   "source": [
    "class Circle:\n",
    "    \"\"\"Circle class implmentation to illustrate static method\"\"\"\n",
    "    all_circles = []                \n",
    "    pi = 3.14159\n",
    "    def __init__(self, r=1):\n",
    "        \"\"\"Create a Circle with the given radius\"\"\"\n",
    "        self.radius = r\n",
    "        self.__class__.all_circles.append(self)\n",
    "    def area(self):\n",
    "        \"\"\"determine the area of the Circle\"\"\"\n",
    "        return self.__class__.pi * self.radius * self.radius\n",
    "    \n",
    "    @staticmethod\n",
    "    def total_area():\n",
    "        total = 0\n",
    "        for c in Circle.all_circles:\n",
    "            total = total + c.area()\n",
    "        return total"
   ]
  },
  {
   "cell_type": "code",
   "execution_count": 56,
   "metadata": {
    "scrolled": false
   },
   "outputs": [
    {
     "name": "stdout",
     "output_type": "stream",
     "text": [
      "15.70795\n",
      "31.415899999999997\n"
     ]
    }
   ],
   "source": [
    "c1 = Circle(1)\n",
    "c2 = Circle(2)\n",
    "print(Circle.total_area())\n",
    "c2.radius = 3\n",
    "print(Circle.total_area())\n"
   ]
  },
  {
   "cell_type": "markdown",
   "metadata": {},
   "source": [
    "## Class methods"
   ]
  },
  {
   "cell_type": "code",
   "execution_count": 57,
   "metadata": {},
   "outputs": [],
   "source": [
    "class Circle:\n",
    "    \"\"\"Circle class implmentation to illustrate class method\"\"\"\n",
    "    all_circles = []    \n",
    "                     #A\n",
    "    pi = 3.14159\n",
    "    def __init__(self, r=1):\n",
    "        \"\"\"Create a Circle with the given radius\"\"\"\n",
    "        self.radius = r\n",
    "        self.__class__.all_circles.append(self)\n",
    "    def area(self):\n",
    "        \"\"\"determine the area of the Circle\"\"\"\n",
    "        return self.__class__.pi * self.radius * self.radius\n",
    "\n",
    "    @classmethod                            #1\n",
    "    def total_area(cls):  \n",
    "                             #2\n",
    "        total = 0\n",
    "        for c in cls.all_circles:  \n",
    "                    #3\n",
    "            total = total + c.area()\n",
    "        return total"
   ]
  },
  {
   "cell_type": "code",
   "execution_count": 41,
   "metadata": {
    "scrolled": true
   },
   "outputs": [
    {
     "name": "stdout",
     "output_type": "stream",
     "text": [
      "15.70795\n",
      "31.415899999999997\n"
     ]
    }
   ],
   "source": [
    "c1 = Circle(1)\n",
    "c2 = Circle(2)\n",
    "print(Circle.total_area())\n",
    "c2.radius = 3\n",
    "print(Circle.total_area())\n"
   ]
  },
  {
   "cell_type": "markdown",
   "metadata": {},
   "source": [
    "## Inheritance\n"
   ]
  },
  {
   "cell_type": "code",
   "execution_count": 42,
   "metadata": {},
   "outputs": [
    {
     "name": "stdout",
     "output_type": "stream",
     "text": [
      "3 4\n"
     ]
    }
   ],
   "source": [
    "class Shape:\n",
    "    def __init__(self, x, y):\n",
    "        self.x = x\n",
    "        self.y = y\n",
    "    def move(self, delta_x, delta_y):\n",
    "        self.x = self.x + delta_x\n",
    "        self.y = self.y + delta_y\n",
    "\n",
    "class Circle(Shape):                                     #C\n",
    "    def __init__(self, r=1, x=0, y=0):\n",
    "        super().__init__(x, y)                           #D\n",
    "        self.radius = r\n",
    "\n",
    "c = Circle(1)\n",
    "c.move(3, 4)\n",
    "print(c.x, c.y)\n"
   ]
  },
  {
   "cell_type": "markdown",
   "metadata": {},
   "source": [
    "## Private variables and private methods"
   ]
  },
  {
   "cell_type": "code",
   "execution_count": 58,
   "metadata": {},
   "outputs": [
    {
     "name": "stdout",
     "output_type": "stream",
     "text": [
      "2\n"
     ]
    },
    {
     "ename": "AttributeError",
     "evalue": "'Mine' object has no attribute '__y'",
     "output_type": "error",
     "traceback": [
      "\u001b[0;31m---------------------------------------------------------------------------\u001b[0m",
      "\u001b[0;31mAttributeError\u001b[0m                            Traceback (most recent call last)",
      "\u001b[0;32m<ipython-input-58-e9eaed5fe95e>\u001b[0m in \u001b[0;36m<module>\u001b[0;34m\u001b[0m\n\u001b[1;32m     10\u001b[0m \u001b[0mprint\u001b[0m\u001b[0;34m(\u001b[0m\u001b[0mm\u001b[0m\u001b[0;34m.\u001b[0m\u001b[0mx\u001b[0m\u001b[0;34m)\u001b[0m\u001b[0;34m\u001b[0m\u001b[0;34m\u001b[0m\u001b[0m\n\u001b[1;32m     11\u001b[0m \u001b[0;34m\u001b[0m\u001b[0m\n\u001b[0;32m---> 12\u001b[0;31m \u001b[0mprint\u001b[0m\u001b[0;34m(\u001b[0m\u001b[0mm\u001b[0m\u001b[0;34m.\u001b[0m\u001b[0m__y\u001b[0m\u001b[0;34m)\u001b[0m \u001b[0;31m# will fail\u001b[0m\u001b[0;34m\u001b[0m\u001b[0;34m\u001b[0m\u001b[0m\n\u001b[0m",
      "\u001b[0;31mAttributeError\u001b[0m: 'Mine' object has no attribute '__y'"
     ]
    }
   ],
   "source": [
    "class Mine:\n",
    "    def __init__(self):\n",
    "        self.x = 2\n",
    "        self.__y = 3                       \n",
    "    def print_y(self):\n",
    "        print(self.__y)\n",
    "\n",
    "m = Mine()\n",
    "\n",
    "print(m.x)\n",
    "\n",
    "print(m.__y) # will fail\n"
   ]
  },
  {
   "cell_type": "code",
   "execution_count": 59,
   "metadata": {},
   "outputs": [
    {
     "name": "stdout",
     "output_type": "stream",
     "text": [
      "3\n",
      "None\n",
      "['_Mine__y', '__class__', '__delattr__', '__dict__', '__dir__', '__doc__', '__eq__', '__format__', '__ge__', '__getattribute__', '__gt__', '__hash__', '__init__', '__init_subclass__', '__le__', '__lt__', '__module__', '__ne__', '__new__', '__reduce__', '__reduce_ex__', '__repr__', '__setattr__', '__sizeof__', '__str__', '__subclasshook__', '__weakref__', 'print_y', 'x']\n"
     ]
    }
   ],
   "source": [
    "print(m.print_y())\n",
    "\n",
    "print(dir(m))"
   ]
  }
 ],
 "metadata": {
  "kernelspec": {
   "display_name": "Python 3",
   "language": "python",
   "name": "python3"
  },
  "language_info": {
   "codemirror_mode": {
    "name": "ipython",
    "version": 3
   },
   "file_extension": ".py",
   "mimetype": "text/x-python",
   "name": "python",
   "nbconvert_exporter": "python",
   "pygments_lexer": "ipython3",
   "version": "3.7.7"
  }
 },
 "nbformat": 4,
 "nbformat_minor": 4
}
