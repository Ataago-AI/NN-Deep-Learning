{
 "cells": [
  {
   "cell_type": "markdown",
   "metadata": {},
   "source": [
    "# Dictionaries\n"
   ]
  },
  {
   "cell_type": "markdown",
   "metadata": {},
   "source": [
    "## What is a dictionary?"
   ]
  },
  {
   "cell_type": "code",
   "execution_count": 20,
   "metadata": {},
   "outputs": [
    {
     "data": {
      "text/plain": [
       "dict"
      ]
     },
     "execution_count": 20,
     "metadata": {},
     "output_type": "execute_result"
    }
   ],
   "source": [
    "x = []\n",
    "y = {}\n",
    "type(x)\n",
    "type(y)"
   ]
  },
  {
   "cell_type": "code",
   "execution_count": 21,
   "metadata": {},
   "outputs": [
    {
     "data": {
      "text/plain": [
       "{0: 'Hello', 1: 'Goodbye'}"
      ]
     },
     "execution_count": 21,
     "metadata": {},
     "output_type": "execute_result"
    }
   ],
   "source": [
    "y[0] = 'Hello'\n",
    "y[1] = 'Goodbye'\n",
    "y"
   ]
  },
  {
   "cell_type": "code",
   "execution_count": 22,
   "metadata": {},
   "outputs": [
    {
     "ename": "IndexError",
     "evalue": "list assignment index out of range",
     "output_type": "error",
     "traceback": [
      "\u001b[0;31m---------------------------------------------------------------------------\u001b[0m",
      "\u001b[0;31mIndexError\u001b[0m                                Traceback (most recent call last)",
      "\u001b[0;32m<ipython-input-22-4759a6563eea>\u001b[0m in \u001b[0;36m<module>\u001b[0;34m\u001b[0m\n\u001b[1;32m      1\u001b[0m \u001b[0;31m#breaks for list. need to use append\u001b[0m\u001b[0;34m\u001b[0m\u001b[0;34m\u001b[0m\u001b[0;34m\u001b[0m\u001b[0m\n\u001b[0;32m----> 2\u001b[0;31m \u001b[0mx\u001b[0m\u001b[0;34m[\u001b[0m\u001b[0;36m0\u001b[0m\u001b[0;34m]\u001b[0m \u001b[0;34m=\u001b[0m \u001b[0;34m'Hello'\u001b[0m \u001b[0;31m# fail\u001b[0m\u001b[0;34m\u001b[0m\u001b[0;34m\u001b[0m\u001b[0m\n\u001b[0m",
      "\u001b[0;31mIndexError\u001b[0m: list assignment index out of range"
     ]
    }
   ],
   "source": [
    "#breaks for list. need to use append\n",
    "x[0] = 'Hello' # fail"
   ]
  },
  {
   "cell_type": "code",
   "execution_count": 23,
   "metadata": {},
   "outputs": [
    {
     "data": {
      "text/plain": [
       "6.28"
      ]
     },
     "execution_count": 23,
     "metadata": {},
     "output_type": "execute_result"
    }
   ],
   "source": [
    "y[\"two\"] = 2\n",
    "y[\"pi\"] = 3.14\n",
    "y[\"two\"] * y[\"pi\"]"
   ]
  },
  {
   "cell_type": "code",
   "execution_count": 24,
   "metadata": {},
   "outputs": [
    {
     "name": "stdout",
     "output_type": "stream",
     "text": [
      "red is rouge\n"
     ]
    }
   ],
   "source": [
    "english_to_french = {}\n",
    "english_to_french['red'] = 'rouge'\n",
    "english_to_french['blue'] = 'bleu'\n",
    "english_to_french['green'] = 'vert'\n",
    "print(\"red is\", english_to_french['red'])"
   ]
  },
  {
   "cell_type": "markdown",
   "metadata": {},
   "source": [
    "## Other dictionary operations"
   ]
  },
  {
   "cell_type": "code",
   "execution_count": 25,
   "metadata": {},
   "outputs": [
    {
     "data": {
      "text/plain": [
       "dict_items"
      ]
     },
     "execution_count": 25,
     "metadata": {},
     "output_type": "execute_result"
    }
   ],
   "source": [
    "english_to_french = {'red': 'rouge', 'blue': 'bleu', 'green': 'vert'}\n",
    "len(english_to_french)\n",
    "list(english_to_french.keys())\n",
    "list(english_to_french.values())\n",
    "list(english_to_french.items())\n",
    "del english_to_french['green']\n",
    "list(english_to_french.items())\n",
    "english_to_french.items()\n",
    "type(english_to_french.items())"
   ]
  },
  {
   "cell_type": "code",
   "execution_count": 26,
   "metadata": {},
   "outputs": [
    {
     "data": {
      "text/plain": [
       "False"
      ]
     },
     "execution_count": 26,
     "metadata": {},
     "output_type": "execute_result"
    }
   ],
   "source": [
    "'red' in english_to_french\n",
    "'orange' in english_to_french"
   ]
  },
  {
   "cell_type": "code",
   "execution_count": 27,
   "metadata": {},
   "outputs": [
    {
     "name": "stdout",
     "output_type": "stream",
     "text": [
      "bleu\n",
      "No translation\n",
      "None\n"
     ]
    }
   ],
   "source": [
    "print(english_to_french.get('blue', 'No translation'))\n",
    "print(english_to_french.get('chartreuse', 'No translation'))\n",
    "print(english_to_french.get('pink'))"
   ]
  },
  {
   "cell_type": "code",
   "execution_count": 28,
   "metadata": {},
   "outputs": [
    {
     "name": "stdout",
     "output_type": "stream",
     "text": [
      "No translation\n",
      "{'red': 'rouge', 'blue': 'bleu', 'chartreuse': 'No translation'}\n"
     ]
    }
   ],
   "source": [
    "print(english_to_french.setdefault('chartreuse', 'No translation'))\n",
    "print(english_to_french)"
   ]
  },
  {
   "cell_type": "code",
   "execution_count": 29,
   "metadata": {},
   "outputs": [
    {
     "data": {
      "text/plain": [
       "{0: 'zero', 1: 'one'}"
      ]
     },
     "execution_count": 29,
     "metadata": {},
     "output_type": "execute_result"
    }
   ],
   "source": [
    "x = {0: 'zero', 1: 'one'}\n",
    "y = x.copy()\n",
    "y\n",
    "x[0] = 'ZERO'\n",
    "x\n",
    "y"
   ]
  },
  {
   "cell_type": "code",
   "execution_count": 30,
   "metadata": {},
   "outputs": [
    {
     "data": {
      "text/plain": [
       "{0: ['0', '00', 'ZERO'], 1: ['one', 'One', 'ONE']}"
      ]
     },
     "execution_count": 30,
     "metadata": {},
     "output_type": "execute_result"
    }
   ],
   "source": [
    "x = {0: ['0','00','000'], 1: ['one', 'One', 'ONE']}\n",
    "y = x.copy()\n",
    "x\n",
    "y[0][2] = 'ZERO'\n",
    "y\n",
    "x"
   ]
  },
  {
   "cell_type": "code",
   "execution_count": 31,
   "metadata": {},
   "outputs": [
    {
     "data": {
      "text/plain": [
       "{0: ['0', '00', '000'], 1: ['one', 'One', 'ONE']}"
      ]
     },
     "execution_count": 31,
     "metadata": {},
     "output_type": "execute_result"
    }
   ],
   "source": [
    "import copy\n",
    "x = {0: ['0','00','000'], 1: ['one', 'One', 'ONE']}\n",
    "y = copy.deepcopy(x)\n",
    "x\n",
    "y[0][2] = 'ZERO'\n",
    "y\n",
    "x"
   ]
  },
  {
   "cell_type": "code",
   "execution_count": 32,
   "metadata": {},
   "outputs": [
    {
     "data": {
      "text/plain": [
       "{1: 'One', 2: 'Two'}"
      ]
     },
     "execution_count": 32,
     "metadata": {},
     "output_type": "execute_result"
    }
   ],
   "source": [
    "z = {1: 'One', 2: 'Two'}\n",
    "x = {0: 'zero', 1: 'one'}\n",
    "x.update(z)\n",
    "x\n",
    "z"
   ]
  },
  {
   "cell_type": "code",
   "execution_count": 33,
   "metadata": {},
   "outputs": [
    {
     "name": "stdout",
     "output_type": "stream",
     "text": [
      "x should be {'a': 1, 'b': 2, 'c': 3}\n",
      "x should be {'a': 1, 'b': 2, 'c': 3, 'g': 7}\n",
      "x should be {'a': 6, 'b': 2, 'c': 3, 'g': 7, 'e': 5, 'f': 6}\n"
     ]
    },
    {
     "data": {
      "text/plain": [
       "{'a': 6, 'b': 2, 'c': 3, 'g': 7, 'e': 5, 'f': 6}"
      ]
     },
     "execution_count": 33,
     "metadata": {},
     "output_type": "execute_result"
    }
   ],
   "source": [
    "x = {'a': 1, 'b': 2, 'c': 3, 'd': 4}\n",
    "y = {'a': 6, 'e': 5, 'f': 6}\n",
    "\n",
    "x\n",
    "del x['d']\n",
    "print(\"x should be {'a': 1, 'b': 2, 'c': 3}\")\n",
    "x\n",
    "z = x.setdefault('g', 7)\n",
    "print(\"x should be {'a': 1, 'b': 2, 'c': 3, 'g': 7}\")\n",
    "x\n",
    "x.update(y)\n",
    "print(\"x should be {'a': 6, 'b': 2, 'c': 3, 'g': 7, 'e': 5, 'f': 6}\")\n",
    "x"
   ]
  },
  {
   "cell_type": "markdown",
   "metadata": {},
   "source": [
    "## What can be used as a key?\n",
    "\n",
    "* objects that are immutable and hashable can be keys\n",
    "    * numbers (int, float, complex)\n",
    "    * strings\n",
    "    * bytes\n",
    "    * tuples containing non-mutable elements\n",
    "    * boolean\n",
    "    * frozenset\n",
    "* objects that are mutable and hashable cannot be keys\n",
    "    * variables\n",
    "    * lists\n",
    "    * set\n",
    "    * dictionaries\n",
    "    * tuples containing mutable variables (not hashable)\n",
    "    * bytearray"
   ]
  },
  {
   "cell_type": "code",
   "execution_count": 34,
   "metadata": {},
   "outputs": [],
   "source": [
    "num_dict = {1: \"yes\"}\n",
    "string_dict = {'bob': \"yes\"}\n",
    "string_dict = {\"filename\": \"yes\"}\n",
    "tuple_string_dict = {(\"filename\", \"extension\"): 'yes'}"
   ]
  },
  {
   "cell_type": "code",
   "execution_count": 35,
   "metadata": {},
   "outputs": [
    {
     "ename": "TypeError",
     "evalue": "unhashable type: 'list'",
     "output_type": "error",
     "traceback": [
      "\u001b[0;31m---------------------------------------------------------------------------\u001b[0m",
      "\u001b[0;31mTypeError\u001b[0m                                 Traceback (most recent call last)",
      "\u001b[0;32m<ipython-input-35-e43a3f74fa50>\u001b[0m in \u001b[0;36m<module>\u001b[0;34m\u001b[0m\n\u001b[0;32m----> 1\u001b[0;31m \u001b[0mtuple_list_dict\u001b[0m \u001b[0;34m=\u001b[0m \u001b[0;34m{\u001b[0m\u001b[0;34m(\u001b[0m\u001b[0;34m'tom'\u001b[0m\u001b[0;34m,\u001b[0m \u001b[0;34m[\u001b[0m\u001b[0;36m1\u001b[0m\u001b[0;34m,\u001b[0m \u001b[0;36m2\u001b[0m\u001b[0;34m,\u001b[0m \u001b[0;36m3\u001b[0m\u001b[0;34m]\u001b[0m\u001b[0;34m)\u001b[0m\u001b[0;34m:\u001b[0m \u001b[0;34m\"no\"\u001b[0m\u001b[0;34m}\u001b[0m \u001b[0;31m# list is mutable, can't be key\u001b[0m\u001b[0;34m\u001b[0m\u001b[0;34m\u001b[0m\u001b[0m\n\u001b[0m",
      "\u001b[0;31mTypeError\u001b[0m: unhashable type: 'list'"
     ]
    }
   ],
   "source": [
    "tuple_list_dict = {('tom', [1, 2, 3]): \"no\"} # list is mutable, can't be key"
   ]
  },
  {
   "cell_type": "code",
   "execution_count": 36,
   "metadata": {},
   "outputs": [
    {
     "ename": "TypeError",
     "evalue": "unhashable type: 'list'",
     "output_type": "error",
     "traceback": [
      "\u001b[0;31m---------------------------------------------------------------------------\u001b[0m",
      "\u001b[0;31mTypeError\u001b[0m                                 Traceback (most recent call last)",
      "\u001b[0;32m<ipython-input-36-b7c71a43d73a>\u001b[0m in \u001b[0;36m<module>\u001b[0;34m\u001b[0m\n\u001b[0;32m----> 1\u001b[0;31m \u001b[0mlist_string_dict\u001b[0m \u001b[0;34m=\u001b[0m \u001b[0;34m{\u001b[0m\u001b[0;34m[\u001b[0m\u001b[0;34m\"file-name\"\u001b[0m\u001b[0;34m]\u001b[0m\u001b[0;34m:\u001b[0m \u001b[0;34m\"no\"\u001b[0m\u001b[0;34m}\u001b[0m \u001b[0;31m#fail\u001b[0m\u001b[0;34m\u001b[0m\u001b[0;34m\u001b[0m\u001b[0m\n\u001b[0m",
      "\u001b[0;31mTypeError\u001b[0m: unhashable type: 'list'"
     ]
    }
   ],
   "source": [
    "list_string_dict = {[\"file-name\"]: \"no\"} #fail"
   ]
  },
  {
   "cell_type": "markdown",
   "metadata": {},
   "source": [
    "## Sparse matrices\n",
    "* If many zeros, only save matrix elements that are non-zero. Use dictionary"
   ]
  },
  {
   "cell_type": "code",
   "execution_count": 37,
   "metadata": {},
   "outputs": [
    {
     "data": {
      "text/plain": [
       "7"
      ]
     },
     "execution_count": 37,
     "metadata": {},
     "output_type": "execute_result"
    }
   ],
   "source": [
    "matrix = [[3, 0, -2, 11], [0, 9, 0, 0], [0, 7, 0, 0], [0, 0, 0, -5]]\n",
    "rownum = 2\n",
    "colnum = 1\n",
    "matrix[rownum][colnum]"
   ]
  },
  {
   "cell_type": "code",
   "execution_count": 38,
   "metadata": {},
   "outputs": [
    {
     "name": "stdout",
     "output_type": "stream",
     "text": [
      "7\n"
     ]
    }
   ],
   "source": [
    "matrix = {(0, 0): 3, (0, 2): -2, (0, 3): 11,\n",
    "          (1, 1): 9,\n",
    "          (2, 1): 7,\n",
    "          (3, 3): -5}\n",
    "\n",
    "rownum = 2\n",
    "colnum = 1\n",
    "\n",
    "if (rownum, colnum) in matrix:\n",
    "    element = matrix[(rownum, colnum)]\n",
    "else:\n",
    "    element = 0\n",
    "    \n",
    "print(element)"
   ]
  },
  {
   "cell_type": "code",
   "execution_count": 39,
   "metadata": {},
   "outputs": [
    {
     "name": "stdout",
     "output_type": "stream",
     "text": [
      "7\n"
     ]
    }
   ],
   "source": [
    "element = matrix.get((rownum, colnum), 0)\n",
    "print(element)"
   ]
  },
  {
   "cell_type": "markdown",
   "metadata": {},
   "source": [
    "## Dictionaries as caches"
   ]
  },
  {
   "cell_type": "code",
   "execution_count": 43,
   "metadata": {},
   "outputs": [],
   "source": [
    "sole_cache = {}\n",
    "def sole(m, n, t):\n",
    "    if (m, n, t) in sole_cache:\n",
    "        return sole_cache(m, n, t)\n",
    "    else:\n",
    "        # some time consuming calculations...\n",
    "        result = m**n**t\n",
    "        sole_cache[(m, n, t)] = result\n",
    "        return result"
   ]
  },
  {
   "cell_type": "code",
   "execution_count": 44,
   "metadata": {
    "scrolled": false
   },
   "outputs": [
    {
     "name": "stdout",
     "output_type": "stream",
     "text": [
      "0\n",
      "1\n",
      "1\n",
      "1\n",
      "1\n",
      "1\n",
      "0\n",
      "0\n",
      "0\n",
      "0\n",
      "0\n",
      "0\n",
      "0\n",
      "0\n",
      "0\n",
      "0\n",
      "0\n",
      "0\n",
      "1\n",
      "1\n",
      "1\n",
      "1\n",
      "1\n",
      "1\n",
      "1\n",
      "1\n",
      "1\n",
      "1\n",
      "1\n",
      "1\n",
      "1\n",
      "1\n",
      "1\n",
      "1\n",
      "1\n",
      "1\n",
      "2\n",
      "1\n",
      "1\n",
      "1\n",
      "1\n",
      "1\n",
      "2\n",
      "2\n",
      "2\n",
      "2\n",
      "2\n",
      "2\n",
      "2\n",
      "4\n",
      "16\n",
      "256\n",
      "65536\n",
      "4294967296\n",
      "3\n",
      "1\n",
      "1\n",
      "1\n",
      "1\n",
      "1\n",
      "3\n",
      "3\n",
      "3\n",
      "3\n",
      "3\n",
      "3\n",
      "3\n",
      "9\n",
      "81\n",
      "6561\n",
      "43046721\n",
      "1853020188851841\n",
      "4\n",
      "1\n",
      "1\n",
      "1\n",
      "1\n",
      "1\n",
      "4\n",
      "4\n",
      "4\n",
      "4\n",
      "4\n",
      "4\n",
      "4\n",
      "16\n",
      "256\n",
      "65536\n",
      "4294967296\n",
      "18446744073709551616\n",
      "{(0, 0, 0): 0, (0, 0, 1): 1, (0, 0, 2): 1, (0, 0, 3): 1, (0, 0, 4): 1, (0, 0, 5): 1, (0, 1, 0): 0, (0, 1, 1): 0, (0, 1, 2): 0, (0, 1, 3): 0, (0, 1, 4): 0, (0, 1, 5): 0, (0, 2, 0): 0, (0, 2, 1): 0, (0, 2, 2): 0, (0, 2, 3): 0, (0, 2, 4): 0, (0, 2, 5): 0, (1, 0, 0): 1, (1, 0, 1): 1, (1, 0, 2): 1, (1, 0, 3): 1, (1, 0, 4): 1, (1, 0, 5): 1, (1, 1, 0): 1, (1, 1, 1): 1, (1, 1, 2): 1, (1, 1, 3): 1, (1, 1, 4): 1, (1, 1, 5): 1, (1, 2, 0): 1, (1, 2, 1): 1, (1, 2, 2): 1, (1, 2, 3): 1, (1, 2, 4): 1, (1, 2, 5): 1, (2, 0, 0): 2, (2, 0, 1): 1, (2, 0, 2): 1, (2, 0, 3): 1, (2, 0, 4): 1, (2, 0, 5): 1, (2, 1, 0): 2, (2, 1, 1): 2, (2, 1, 2): 2, (2, 1, 3): 2, (2, 1, 4): 2, (2, 1, 5): 2, (2, 2, 0): 2, (2, 2, 1): 4, (2, 2, 2): 16, (2, 2, 3): 256, (2, 2, 4): 65536, (2, 2, 5): 4294967296, (3, 0, 0): 3, (3, 0, 1): 1, (3, 0, 2): 1, (3, 0, 3): 1, (3, 0, 4): 1, (3, 0, 5): 1, (3, 1, 0): 3, (3, 1, 1): 3, (3, 1, 2): 3, (3, 1, 3): 3, (3, 1, 4): 3, (3, 1, 5): 3, (3, 2, 0): 3, (3, 2, 1): 9, (3, 2, 2): 81, (3, 2, 3): 6561, (3, 2, 4): 43046721, (3, 2, 5): 1853020188851841, (4, 0, 0): 4, (4, 0, 1): 1, (4, 0, 2): 1, (4, 0, 3): 1, (4, 0, 4): 1, (4, 0, 5): 1, (4, 1, 0): 4, (4, 1, 1): 4, (4, 1, 2): 4, (4, 1, 3): 4, (4, 1, 4): 4, (4, 1, 5): 4, (4, 2, 0): 4, (4, 2, 1): 16, (4, 2, 2): 256, (4, 2, 3): 65536, (4, 2, 4): 4294967296, (4, 2, 5): 18446744073709551616}\n"
     ]
    }
   ],
   "source": [
    "for m in range(5):\n",
    "    for n in range(3):\n",
    "        for t in range(6):\n",
    "            print(sole(m, n, t))\n",
    "            \n",
    "print(sole_cache)"
   ]
  }
 ],
 "metadata": {
  "kernelspec": {
   "display_name": "Python 3",
   "language": "python",
   "name": "python3"
  },
  "language_info": {
   "codemirror_mode": {
    "name": "ipython",
    "version": 3
   },
   "file_extension": ".py",
   "mimetype": "text/x-python",
   "name": "python",
   "nbconvert_exporter": "python",
   "pygments_lexer": "ipython3",
   "version": "3.7.7"
  }
 },
 "nbformat": 4,
 "nbformat_minor": 2
}
