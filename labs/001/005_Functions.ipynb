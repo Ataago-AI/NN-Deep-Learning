{
 "cells": [
  {
   "cell_type": "markdown",
   "metadata": {},
   "source": [
    "# Functions"
   ]
  },
  {
   "cell_type": "markdown",
   "metadata": {},
   "source": [
    "## Basic function definitions"
   ]
  },
  {
   "cell_type": "code",
   "execution_count": 1,
   "metadata": {},
   "outputs": [],
   "source": [
    "def fact(n):\n",
    "    \"\"\"Return the factorial of the given number.\"\"\"\n",
    "    r = 1\n",
    "    while n > 0:\n",
    "        r = r * n\n",
    "        n = n - 1\n",
    "    return r"
   ]
  },
  {
   "cell_type": "code",
   "execution_count": 2,
   "metadata": {},
   "outputs": [
    {
     "data": {
      "text/plain": [
       "24"
      ]
     },
     "execution_count": 2,
     "metadata": {},
     "output_type": "execute_result"
    }
   ],
   "source": [
    "fact(1)\n",
    "fact(2)\n",
    "fact(3)\n",
    "fact(4)"
   ]
  },
  {
   "cell_type": "code",
   "execution_count": 3,
   "metadata": {},
   "outputs": [
    {
     "name": "stdout",
     "output_type": "stream",
     "text": [
      "Return the factorial of the given number.\n"
     ]
    }
   ],
   "source": [
    "print(fact.__doc__)"
   ]
  },
  {
   "cell_type": "code",
   "execution_count": 4,
   "metadata": {},
   "outputs": [
    {
     "name": "stdout",
     "output_type": "stream",
     "text": [
      "x is 24\n"
     ]
    }
   ],
   "source": [
    "fact(4)\n",
    "x = fact(4)\n",
    "print(f'x is {x}')"
   ]
  },
  {
   "cell_type": "code",
   "execution_count": 5,
   "metadata": {},
   "outputs": [],
   "source": [
    "def fact1(n):\n",
    "    \"\"\"Return the factorial of the given number.\"\"\"\n",
    "    r = 1\n",
    "    while n > 0:\n",
    "        r = r * n\n",
    "        n = n - 1\n",
    "    # if no return statement: None is returned"
   ]
  },
  {
   "cell_type": "code",
   "execution_count": 7,
   "metadata": {},
   "outputs": [
    {
     "name": "stdout",
     "output_type": "stream",
     "text": [
      "None\n"
     ]
    }
   ],
   "source": [
    "fact1(1)\n",
    "fact1(2)\n",
    "fact1(3)\n",
    "fact1(4)\n",
    "print(fact1(4))"
   ]
  },
  {
   "cell_type": "markdown",
   "metadata": {},
   "source": [
    "## Function parameter options"
   ]
  },
  {
   "cell_type": "code",
   "execution_count": 6,
   "metadata": {},
   "outputs": [
    {
     "data": {
      "text/plain": [
       "27"
      ]
     },
     "execution_count": 6,
     "metadata": {},
     "output_type": "execute_result"
    }
   ],
   "source": [
    "def power(x, y):\n",
    "    r = 1\n",
    "    while y > 0:\n",
    "        r *= x\n",
    "        y -= 1\n",
    "    return r\n",
    "\n",
    "power(3,3)"
   ]
  },
  {
   "cell_type": "code",
   "execution_count": 7,
   "metadata": {},
   "outputs": [
    {
     "data": {
      "text/plain": [
       "9"
      ]
     },
     "execution_count": 7,
     "metadata": {},
     "output_type": "execute_result"
    }
   ],
   "source": [
    "def power(x, y=2):\n",
    "    r = 1\n",
    "    while y > 0:\n",
    "        r *= x\n",
    "        y -= 1\n",
    "    return r\n",
    "\n",
    "power(3,3)\n",
    "power(3)"
   ]
  },
  {
   "cell_type": "code",
   "execution_count": 8,
   "metadata": {},
   "outputs": [
    {
     "data": {
      "text/plain": [
       "9"
      ]
     },
     "execution_count": 8,
     "metadata": {},
     "output_type": "execute_result"
    }
   ],
   "source": [
    "power(2, 3)\n",
    "power(3, 2)\n",
    "power(y=2, x=3) #keyword passing"
   ]
  },
  {
   "cell_type": "markdown",
   "metadata": {},
   "source": [
    "### Variable numbers of arguments"
   ]
  },
  {
   "cell_type": "markdown",
   "metadata": {},
   "source": [
    "Dealing with an indefinite number of postional arguments"
   ]
  },
  {
   "cell_type": "code",
   "execution_count": 9,
   "metadata": {},
   "outputs": [],
   "source": [
    "def maximum(*numbers): #collect varibles into a tuple\n",
    "    if len(numbers) == 0:\n",
    "        return None\n",
    "    else:\n",
    "        maxnum = numbers[0]\n",
    "        for n in numbers[1:]:\n",
    "            if n > maxnum:\n",
    "                maxnum = n\n",
    "        return maxnum"
   ]
  },
  {
   "cell_type": "code",
   "execution_count": 10,
   "metadata": {},
   "outputs": [
    {
     "data": {
      "text/plain": [
       "8"
      ]
     },
     "execution_count": 10,
     "metadata": {},
     "output_type": "execute_result"
    }
   ],
   "source": [
    "maximum(3, 2, 8)"
   ]
  },
  {
   "cell_type": "code",
   "execution_count": 11,
   "metadata": {},
   "outputs": [],
   "source": [
    "maximum()"
   ]
  },
  {
   "cell_type": "code",
   "execution_count": 12,
   "metadata": {},
   "outputs": [
    {
     "data": {
      "text/plain": [
       "9"
      ]
     },
     "execution_count": 12,
     "metadata": {},
     "output_type": "execute_result"
    }
   ],
   "source": [
    "maximum(1, 5, 9, -2, 2)"
   ]
  },
  {
   "cell_type": "markdown",
   "metadata": {},
   "source": [
    "Dealing with an indefinite number of arguments passed by keyword"
   ]
  },
  {
   "cell_type": "code",
   "execution_count": 13,
   "metadata": {},
   "outputs": [],
   "source": [
    "def example_fun(x, y, **other):\n",
    "    print(f\"x: {x}, y: {y}, keys in 'other': {other.keys()}\")\n",
    "    other_total = 0\n",
    "    for k in other.keys():\n",
    "        other_total += other[k]\n",
    "    print(f\"The total of values in 'other' is {other_total}\")"
   ]
  },
  {
   "cell_type": "code",
   "execution_count": 14,
   "metadata": {},
   "outputs": [
    {
     "name": "stdout",
     "output_type": "stream",
     "text": [
      "x: 1, y: 2, keys in 'other': dict_keys(['a', 'b', 'c'])\n",
      "The total of values in 'other' is 3\n"
     ]
    }
   ],
   "source": [
    "example_fun(1, 2, a=1, b=1, c=1)"
   ]
  },
  {
   "cell_type": "code",
   "execution_count": 15,
   "metadata": {},
   "outputs": [
    {
     "name": "stdout",
     "output_type": "stream",
     "text": [
      "x: 1, y: 2, keys in 'other': dict_keys(['a', 'b', 'c'])\n",
      "The total of values in 'other' is 3\n"
     ]
    }
   ],
   "source": [
    "example_fun(y=2, x=1, a=1, b=1, c=1)"
   ]
  },
  {
   "cell_type": "code",
   "execution_count": 16,
   "metadata": {},
   "outputs": [
    {
     "name": "stdout",
     "output_type": "stream",
     "text": [
      "x: 1, y: 2, keys in 'other': dict_keys(['a', 'b', 'c'])\n",
      "The total of values in 'other' is 3\n"
     ]
    }
   ],
   "source": [
    "example_fun(y=2, a=1, b=1, c=1, x=1)"
   ]
  },
  {
   "cell_type": "markdown",
   "metadata": {},
   "source": [
    "### Mixing argument-passing techniques\n",
    "1. positional arguments come first\n",
    "2. named arguments next\n",
    "3. indefinate positional arguments with *\n",
    "4. indefinate keyword arguments with **"
   ]
  },
  {
   "cell_type": "code",
   "execution_count": 17,
   "metadata": {},
   "outputs": [],
   "source": [
    "def rev(*a):\n",
    "    a = list(a)\n",
    "    a.reverse()\n",
    "    print(a)"
   ]
  },
  {
   "cell_type": "code",
   "execution_count": 18,
   "metadata": {},
   "outputs": [
    {
     "name": "stdout",
     "output_type": "stream",
     "text": [
      "[3, 2, 1]\n",
      "[3, 2, 1]\n",
      "None\n"
     ]
    }
   ],
   "source": [
    "rev(1,2,3)\n",
    "a = rev(1,2,3)\n",
    "print(a)"
   ]
  },
  {
   "cell_type": "code",
   "execution_count": 19,
   "metadata": {},
   "outputs": [],
   "source": [
    "def void_func():\n",
    "    return None"
   ]
  },
  {
   "cell_type": "code",
   "execution_count": 20,
   "metadata": {},
   "outputs": [
    {
     "name": "stdout",
     "output_type": "stream",
     "text": [
      "None\n"
     ]
    }
   ],
   "source": [
    "void_func()\n",
    "a = void_func()\n",
    "print(a)"
   ]
  },
  {
   "cell_type": "code",
   "execution_count": 21,
   "metadata": {},
   "outputs": [],
   "source": [
    "def void_func():\n",
    "    pass"
   ]
  },
  {
   "cell_type": "code",
   "execution_count": 22,
   "metadata": {},
   "outputs": [],
   "source": [
    "void_func()"
   ]
  },
  {
   "cell_type": "code",
   "execution_count": 23,
   "metadata": {},
   "outputs": [
    {
     "name": "stdout",
     "output_type": "stream",
     "text": [
      "None\n"
     ]
    }
   ],
   "source": [
    "a = void_func()\n",
    "print(a)"
   ]
  },
  {
   "cell_type": "markdown",
   "metadata": {},
   "source": [
    "##  Mutable objects as arguments"
   ]
  },
  {
   "cell_type": "code",
   "execution_count": 24,
   "metadata": {},
   "outputs": [
    {
     "data": {
      "text/plain": [
       "(5, [1, 2, 3], [4, 5])"
      ]
     },
     "execution_count": 24,
     "metadata": {},
     "output_type": "execute_result"
    }
   ],
   "source": [
    "def f(n, list1, list2):\n",
    "    list1.append(3)\n",
    "    list2 = [4, 5, 6]\n",
    "    n = n+1\n",
    "\n",
    "x = 5\n",
    "y = [1, 2]\n",
    "z = [4, 5]\n",
    "f(x, y, z)\n",
    "x, y, z"
   ]
  },
  {
   "cell_type": "code",
   "execution_count": 25,
   "metadata": {},
   "outputs": [
    {
     "name": "stdout",
     "output_type": "stream",
     "text": [
      "Expect list to be [2, 3, 'a', 'b'], list is [2, 3, 'a', 'b']\n"
     ]
    }
   ],
   "source": [
    "def list_changer(list1):\n",
    "    list1.append('a')\n",
    "    list1.append('b')\n",
    "    del list1[0]\n",
    "    \n",
    "test_list = [1, 2, 3]\n",
    "list_changer(test_list)\n",
    "print(f\"Expect list to be [2, 3, 'a', 'b'], list is {test_list}\")"
   ]
  },
  {
   "cell_type": "code",
   "execution_count": 26,
   "metadata": {},
   "outputs": [
    {
     "name": "stdout",
     "output_type": "stream",
     "text": [
      "Expect list to be [1, 2, 3], list is [1, 2, 3]\n"
     ]
    }
   ],
   "source": [
    "def list_unchanger(list1):\n",
    "    list2 = list1\n",
    "    list1 = []\n",
    "    for i in list2:\n",
    "        list1.append(i)\n",
    "    del list1[0]\n",
    "    \n",
    "test_list = [1, 2, 3]\n",
    "list_unchanger(test_list)\n",
    "print(f\"Expect list to be [1, 2, 3], list is {test_list}\")"
   ]
  },
  {
   "cell_type": "code",
   "execution_count": 29,
   "metadata": {},
   "outputs": [
    {
     "name": "stdout",
     "output_type": "stream",
     "text": [
      "Expect list to be [1, 2, 3], list is [1, 2, 3]\n"
     ]
    }
   ],
   "source": [
    "import copy\n",
    "def list_change_safe(list1):\n",
    "    list2 = copy.deepcopy(list1)\n",
    "    del list2[0]\n",
    "    \n",
    "test_list = [1, 2, 3]\n",
    "list_change_safe(test_list)\n",
    "print(f\"Expect list to be [1, 2, 3], list is {test_list}\")"
   ]
  },
  {
   "cell_type": "markdown",
   "metadata": {},
   "source": [
    "## Local, nonlocal, and global variables"
   ]
  },
  {
   "cell_type": "code",
   "execution_count": 27,
   "metadata": {},
   "outputs": [
    {
     "data": {
      "text/plain": [
       "(7, 3)"
      ]
     },
     "execution_count": 27,
     "metadata": {},
     "output_type": "execute_result"
    }
   ],
   "source": [
    "def fact(n):\n",
    "    \"\"\"Return the factorial of the given number.\"\"\"\n",
    "    r = 1\n",
    "    while n > 0:\n",
    "        r = r * n\n",
    "        n = n - 1\n",
    "    return r\n",
    "\n",
    "r = 7\n",
    "n = 3\n",
    "fact(n) # r & n inside are local changes, don't effect outside functions\n",
    "r, n"
   ]
  },
  {
   "cell_type": "code",
   "execution_count": 28,
   "metadata": {},
   "outputs": [
    {
     "data": {
      "text/plain": [
       "(1, 'two')"
      ]
     },
     "execution_count": 28,
     "metadata": {},
     "output_type": "execute_result"
    }
   ],
   "source": [
    "def fun():\n",
    "    global a\n",
    "    a = 1\n",
    "    b = 2\n",
    "\n",
    "#a = \"one\"\n",
    "b = \"two\"\n",
    "\n",
    "fun()\n",
    "a, b\n",
    "\n",
    "def fun():\n",
    "    global a\n",
    "    a = 1\n",
    "    b = 2\n",
    "\n",
    "a = \"one\"\n",
    "\n",
    "fun()\n",
    "a, b"
   ]
  },
  {
   "cell_type": "code",
   "execution_count": 29,
   "metadata": {},
   "outputs": [
    {
     "name": "stdout",
     "output_type": "stream",
     "text": [
      "top level -> g_var: 0, nl_var: 0\n",
      "in test -> g_var: 0, nl_var: 2\n",
      "in inner_test -> g_var: 1, nl_var: 4\n",
      "in test -> g_var: 1, nl_var: 4\n",
      "top level-> g_var: 1, nl_var: 0\n"
     ]
    }
   ],
   "source": [
    "g_var = 0\n",
    "nl_var = 0\n",
    "print(f\"top level -> g_var: {g_var}, nl_var: {nl_var}\")\n",
    "def test():\n",
    "    nl_var = 2\n",
    "    print(f\"in test -> g_var: {g_var}, nl_var: {nl_var}\")\n",
    "    def inner_test():\n",
    "        global g_var\n",
    "        nonlocal nl_var\n",
    "        g_var = 1\n",
    "        nl_var = 4\n",
    "        print(f\"in inner_test -> g_var: {g_var}, nl_var: {nl_var}\")\n",
    "    inner_test()\n",
    "    print(f\"in test -> g_var: {g_var}, nl_var: {nl_var}\")\n",
    "test()\n",
    "print(f\"top level-> g_var: {g_var}, nl_var: {nl_var}\")"
   ]
  },
  {
   "cell_type": "code",
   "execution_count": 30,
   "metadata": {},
   "outputs": [
    {
     "name": "stdout",
     "output_type": "stream",
     "text": [
      "x should be 5: 5\n",
      "x should be 5: 5\n",
      "x should be 2: 2\n"
     ]
    }
   ],
   "source": [
    "def funct_1():\n",
    "    x  = 3\n",
    "def funct_2():\n",
    "    global x\n",
    "    x = 2\n",
    "    \n",
    "x = 5\n",
    "print(f\"x should be 5: {x}\")\n",
    "funct_1()\n",
    "print(f\"x should be 5: {x}\")\n",
    "funct_2()\n",
    "print(f\"x should be 2: {x}\")"
   ]
  },
  {
   "cell_type": "markdown",
   "metadata": {},
   "source": [
    "## Assigning functions to variables"
   ]
  },
  {
   "cell_type": "code",
   "execution_count": 31,
   "metadata": {},
   "outputs": [
    {
     "data": {
      "text/plain": [
       "273.15"
      ]
     },
     "execution_count": 31,
     "metadata": {},
     "output_type": "execute_result"
    }
   ],
   "source": [
    "def f_to_kelvin(degrees_f):\n",
    "    return 273.15 + (degrees_f - 32) * 5/9\n",
    "def c_to_kelvin(degrees_c):\n",
    "    return 273.15 + degrees_c\n",
    "abs_temperature = f_to_kelvin\n",
    "abs_temperature(32)\n",
    "abs_temperature = c_to_kelvin\n",
    "abs_temperature(0)"
   ]
  },
  {
   "cell_type": "code",
   "execution_count": 32,
   "metadata": {},
   "outputs": [
    {
     "data": {
      "text/plain": [
       "273.15"
      ]
     },
     "execution_count": 32,
     "metadata": {},
     "output_type": "execute_result"
    }
   ],
   "source": [
    "t = {'FtoK': f_to_kelvin, 'CtoK': c_to_kelvin}\n",
    "t['FtoK'](32)\n",
    "t['CtoK'](0)"
   ]
  },
  {
   "cell_type": "markdown",
   "metadata": {},
   "source": [
    "##  Lambda expressions\n",
    "\n",
    "`lambda param1, param2, ...: expression`"
   ]
  },
  {
   "cell_type": "code",
   "execution_count": 36,
   "metadata": {},
   "outputs": [
    {
     "data": {
      "text/plain": [
       "273.15"
      ]
     },
     "execution_count": 36,
     "metadata": {},
     "output_type": "execute_result"
    }
   ],
   "source": [
    "t2 = {'FtoK': lambda deg_f: 273.15 + (deg_f - 32) * 5 / 9,\n",
    "      'CtoK': lambda deg_c: 273.15 + deg_c}\n",
    "t2['FtoK'](32)"
   ]
  },
  {
   "cell_type": "markdown",
   "metadata": {},
   "source": [
    "## Generator functions\n",
    "* generator function is used to define your own iterator\n",
    "* local variables are saved from one call to the next, unlike normal funcitons\n",
    "* generator must end at some point"
   ]
  },
  {
   "cell_type": "code",
   "execution_count": 33,
   "metadata": {},
   "outputs": [],
   "source": [
    "def four():\n",
    "    x = 0\n",
    "    while x < 4:\n",
    "        print(f\"in generator, x = {x}\")\n",
    "        yield x\n",
    "        x += 1"
   ]
  },
  {
   "cell_type": "code",
   "execution_count": 34,
   "metadata": {},
   "outputs": [
    {
     "name": "stdout",
     "output_type": "stream",
     "text": [
      "in generator, x = 0\n",
      "i is 0\n",
      "in generator, x = 1\n",
      "i is 1\n",
      "in generator, x = 2\n",
      "i is 2\n",
      "in generator, x = 3\n",
      "i is 3\n"
     ]
    }
   ],
   "source": [
    "for i in four():\n",
    "    print(f\"i is {i}\")"
   ]
  },
  {
   "cell_type": "code",
   "execution_count": 35,
   "metadata": {},
   "outputs": [
    {
     "name": "stdout",
     "output_type": "stream",
     "text": [
      "in gen, y = 6\n",
      "in subgen, i = 0\n",
      "0\n",
      "in subgen, i = 1\n",
      "1\n",
      "in subgen, i = 2\n",
      "2\n",
      "in subgen, i = 3\n",
      "3\n",
      "in subgen, i = 4\n",
      "4\n",
      "in subgen, i = 5\n",
      "5\n"
     ]
    }
   ],
   "source": [
    "def subgen(x):\n",
    "    for i in range(x):\n",
    "        print(f\"in subgen, i = {i}\")\n",
    "        yield i\n",
    "        \n",
    "def gen(y):\n",
    "    print(f\"in gen, y = {y}\")\n",
    "    yield from subgen(y)\n",
    "    \n",
    "for q in gen(6):\n",
    "    print(q)"
   ]
  },
  {
   "cell_type": "code",
   "execution_count": 36,
   "metadata": {},
   "outputs": [
    {
     "name": "stdout",
     "output_type": "stream",
     "text": [
      "in generator, x = 0\n",
      "in generator, x = 1\n",
      "in generator, x = 2\n"
     ]
    },
    {
     "data": {
      "text/plain": [
       "True"
      ]
     },
     "execution_count": 36,
     "metadata": {},
     "output_type": "execute_result"
    }
   ],
   "source": [
    "2 in four()"
   ]
  },
  {
   "cell_type": "code",
   "execution_count": 37,
   "metadata": {},
   "outputs": [
    {
     "name": "stdout",
     "output_type": "stream",
     "text": [
      "in generator, x = 0\n",
      "in generator, x = 1\n",
      "in generator, x = 2\n",
      "in generator, x = 3\n"
     ]
    },
    {
     "data": {
      "text/plain": [
       "False"
      ]
     },
     "execution_count": 37,
     "metadata": {},
     "output_type": "execute_result"
    }
   ],
   "source": [
    "5 in four()"
   ]
  },
  {
   "cell_type": "code",
   "execution_count": 38,
   "metadata": {},
   "outputs": [],
   "source": [
    "def anynum(requested_length):\n",
    "    x = 0\n",
    "    while x < requested_length:\n",
    "        print(f\"in generator, x = {x}\")\n",
    "        yield x\n",
    "        x += 1"
   ]
  },
  {
   "cell_type": "code",
   "execution_count": 39,
   "metadata": {},
   "outputs": [
    {
     "name": "stdout",
     "output_type": "stream",
     "text": [
      "in generator, x = 0\n",
      "in generator, x = 1\n",
      "in generator, x = 2\n",
      "in generator, x = 3\n",
      "in generator, x = 4\n"
     ]
    },
    {
     "data": {
      "text/plain": [
       "[0, 1, 2, 3, 4]"
      ]
     },
     "execution_count": 39,
     "metadata": {},
     "output_type": "execute_result"
    }
   ],
   "source": [
    "list(anynum(5))\n"
   ]
  },
  {
   "cell_type": "code",
   "execution_count": 40,
   "metadata": {},
   "outputs": [],
   "source": [
    "def anynum(requested_length, start_num):\n",
    "    x = start_num\n",
    "    while x < start_num + requested_length:\n",
    "        print(f\"in generator, x = {x}\")\n",
    "        yield x\n",
    "        x += 1"
   ]
  },
  {
   "cell_type": "code",
   "execution_count": 41,
   "metadata": {},
   "outputs": [
    {
     "name": "stdout",
     "output_type": "stream",
     "text": [
      "in generator, x = 10\n",
      "in generator, x = 11\n",
      "in generator, x = 12\n",
      "in generator, x = 13\n",
      "in generator, x = 14\n"
     ]
    },
    {
     "data": {
      "text/plain": [
       "[10, 11, 12, 13, 14]"
      ]
     },
     "execution_count": 41,
     "metadata": {},
     "output_type": "execute_result"
    }
   ],
   "source": [
    "list(anynum(5, 10))"
   ]
  }
 ],
 "metadata": {
  "kernelspec": {
   "display_name": "Python 3",
   "language": "python",
   "name": "python3"
  },
  "language_info": {
   "codemirror_mode": {
    "name": "ipython",
    "version": 3
   },
   "file_extension": ".py",
   "mimetype": "text/x-python",
   "name": "python",
   "nbconvert_exporter": "python",
   "pygments_lexer": "ipython3",
   "version": "3.7.7"
  }
 },
 "nbformat": 4,
 "nbformat_minor": 2
}
