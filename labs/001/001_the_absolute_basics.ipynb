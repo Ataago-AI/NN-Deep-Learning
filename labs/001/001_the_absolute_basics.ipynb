{
 "cells": [
  {
   "cell_type": "markdown",
   "metadata": {},
   "source": [
    "# A Note\n",
    "\n",
    "* The provided notebooks (this is the first one) is meant to be a brief coverage to Python features using examples only!\n",
    "* Although some basic concepts are covered, there’s no attempt to teach fundamental programming skills and basic concepts like flow control, and OOP.\n",
    "    * The best reference is always the [Python Tutorial](https://docs.python.org/3/tutorial/index.html)\n",
    "* The provided Jupyter Notebook contain only quick notes and code excerpted from the above Naomi Ceder's book \n",
    "[Source Text Book: The Quick Python Book 3rd Edition by Naomi Ceder, Manning Publications, 2018.](https://www.amazon.com/gp/product/1617294039/ref=dbs_a_def_rwt_bibl_vppi_i0)"
   ]
  },
  {
   "cell_type": "markdown",
   "metadata": {},
   "source": [
    "# The Absolute Basics"
   ]
  },
  {
   "cell_type": "markdown",
   "metadata": {},
   "source": [
    "## Indentation and block structuring\n",
    "* Python uses whitespace and indentation to determine block structure."
   ]
  },
  {
   "cell_type": "code",
   "execution_count": 2,
   "metadata": {},
   "outputs": [
    {
     "name": "stdout",
     "output_type": "stream",
     "text": [
      "n:8, r:9.\n",
      "n:7, r:72.\n",
      "n:6, r:504.\n",
      "n:5, r:3024.\n",
      "n:4, r:15120.\n",
      "n:3, r:60480.\n",
      "n:2, r:181440.\n",
      "n:1, r:362880.\n",
      "n:0, r:362880.\n",
      "Final n:0, r:362880.\n"
     ]
    }
   ],
   "source": [
    "n = 9\n",
    "r = 1\n",
    "while n > 0:\n",
    "    r = r * n\n",
    "    n = n - 1\n",
    "    print(\"n:%s, r:%s.\" % (n, r))\n",
    "\n",
    "#\n",
    "print(\"Final n:%s, r:%s.\" % (n, r))"
   ]
  },
  {
   "cell_type": "markdown",
   "metadata": {},
   "source": [
    "## Differentiating comments\n",
    "* **#** symbol in a Python file is a comment and is disregarded by the language."
   ]
  },
  {
   "cell_type": "code",
   "execution_count": null,
   "metadata": {},
   "outputs": [],
   "source": [
    "# Assign 5 to x\n",
    "x = 5\n",
    "x"
   ]
  },
  {
   "cell_type": "markdown",
   "metadata": {},
   "source": [
    "## Variables and assignments\n",
    "* In Python a variable is NOT a container that stores a value, somewhat like a bucket.\n",
    "* In Python variables are labels or tags that refer to objects in the Python interpreter's namespace.\n",
    "* Variable names are case-sensitive and can include any alphanumeric character as well as underscores but must start with a letter or underscore."
   ]
  },
  {
   "cell_type": "code",
   "execution_count": null,
   "metadata": {},
   "outputs": [],
   "source": [
    "x = 5"
   ]
  },
  {
   "cell_type": "code",
   "execution_count": null,
   "metadata": {},
   "outputs": [],
   "source": [
    "a = [1, 2, 3]\n",
    "b = a\n",
    "c = b\n",
    "b[1] = 5\n",
    "print(a, b, c)"
   ]
  },
  {
   "cell_type": "code",
   "execution_count": null,
   "metadata": {},
   "outputs": [],
   "source": [
    "# If the variables are referring to constants or immutable values, this distinction isn't quite as clear:\n",
    "a = 1\n",
    "b = a\n",
    "c = b\n",
    "b = 5\n",
    "print(a, b, c)"
   ]
  },
  {
   "cell_type": "code",
   "execution_count": null,
   "metadata": {},
   "outputs": [],
   "source": [
    "# Python variables can be set to any object.\n",
    "x = \"Hello\"\n",
    "print(x)\n",
    "\n",
    "x = 5\n",
    "print(5)"
   ]
  },
  {
   "cell_type": "code",
   "execution_count": null,
   "metadata": {},
   "outputs": [],
   "source": [
    "# Delete the variable\n",
    "x = 5\n",
    "print(5)\n",
    "\n",
    "del x\n",
    "print(x)"
   ]
  },
  {
   "cell_type": "markdown",
   "metadata": {},
   "source": [
    "## Expressions"
   ]
  },
  {
   "cell_type": "code",
   "execution_count": null,
   "metadata": {},
   "outputs": [],
   "source": [
    "x = 4\n",
    "y = 5\n",
    "# returns a floating-point number\n",
    "z = (x + y) / 2\n",
    "print(x, y, z)\n",
    "\n",
    "# returns a truncated integer\n",
    "t = (x + y) // 2\n",
    "print(x, y, t)"
   ]
  },
  {
   "cell_type": "markdown",
   "metadata": {},
   "source": [
    "## Strings\n",
    "* \\n: newline character\n",
    "* \\t: tab character\n",
    "* \\\\\\\\: single normal backslash character\n",
    "* \\\\\": double-quote character"
   ]
  },
  {
   "cell_type": "code",
   "execution_count": null,
   "metadata": {},
   "outputs": [],
   "source": [
    "x = \"Hello, World\"\n",
    "x"
   ]
  },
  {
   "cell_type": "code",
   "execution_count": 1,
   "metadata": {},
   "outputs": [
    {
     "data": {
      "text/plain": [
       "'\\tThis string starts with a \"tab\".'"
      ]
     },
     "execution_count": 1,
     "metadata": {},
     "output_type": "execute_result"
    }
   ],
   "source": [
    "x = \"\\tThis string starts with a \\\"tab\\\".\"\n",
    "x"
   ]
  },
  {
   "cell_type": "code",
   "execution_count": 3,
   "metadata": {},
   "outputs": [
    {
     "data": {
      "text/plain": [
       "'This string contains a single backslash(\\\\).'"
      ]
     },
     "execution_count": 3,
     "metadata": {},
     "output_type": "execute_result"
    }
   ],
   "source": [
    "x = \"This string contains a single backslash(\\\\).\"\n",
    "x"
   ]
  },
  {
   "cell_type": "code",
   "execution_count": null,
   "metadata": {},
   "outputs": [],
   "source": [
    "print(x)"
   ]
  },
  {
   "cell_type": "code",
   "execution_count": null,
   "metadata": {},
   "outputs": [],
   "source": [
    "# double quotes\n",
    "x1 = \"Hello, World\"\n",
    "\n",
    "# single quotes\n",
    "x2 = 'Hello, World'\n",
    "print(x1)\n",
    "print(x2)"
   ]
  },
  {
   "cell_type": "code",
   "execution_count": 4,
   "metadata": {},
   "outputs": [
    {
     "name": "stdout",
     "output_type": "stream",
     "text": [
      "Don't need a backslash\n",
      "Can't get by without a backslash\n",
      "Backslash your \" character!\n",
      "You can leave the \" alone\n"
     ]
    }
   ],
   "source": [
    "x1 = \"Don't need a backslash\"\n",
    "x2 = 'Can\\'t get by without a backslash'\n",
    "x3 = \"Backslash your \\\" character!\"\n",
    "x4 = 'You can leave the \" alone'\n",
    "print(x1)\n",
    "print(x2)\n",
    "print(x3)\n",
    "print(x4)"
   ]
  },
  {
   "cell_type": "markdown",
   "metadata": {},
   "source": [
    "### Built-in numeric functions\n",
    "* `abs`, `divmod`, `float`, `hex`, `int`, `max`, `min`, `oct`, `pow`, `round`."
   ]
  },
  {
   "cell_type": "markdown",
   "metadata": {},
   "source": [
    "---"
   ]
  }
 ],
 "metadata": {
  "kernelspec": {
   "display_name": "Python 3",
   "language": "python",
   "name": "python3"
  },
  "language_info": {
   "codemirror_mode": {
    "name": "ipython",
    "version": 3
   },
   "file_extension": ".py",
   "mimetype": "text/x-python",
   "name": "python",
   "nbconvert_exporter": "python",
   "pygments_lexer": "ipython3",
   "version": "3.7.7"
  }
 },
 "nbformat": 4,
 "nbformat_minor": 2
}
