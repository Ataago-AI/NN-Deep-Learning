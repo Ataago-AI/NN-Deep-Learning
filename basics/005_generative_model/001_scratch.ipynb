{
 "cells": [
  {
   "cell_type": "markdown",
   "metadata": {},
   "source": [
    "# Generative Model from Scratch\n",
    "---"
   ]
  },
  {
   "cell_type": "code",
   "execution_count": 101,
   "metadata": {},
   "outputs": [],
   "source": [
    "import torch\n",
    "import torch.nn as nn\n",
    "from torch.nn import functional as F"
   ]
  },
  {
   "cell_type": "code",
   "execution_count": 26,
   "metadata": {},
   "outputs": [],
   "source": [
    "SEED = 1337"
   ]
  },
  {
   "cell_type": "markdown",
   "metadata": {},
   "source": [
    "## 1. Data"
   ]
  },
  {
   "cell_type": "code",
   "execution_count": 2,
   "metadata": {},
   "outputs": [
    {
     "name": "stdout",
     "output_type": "stream",
     "text": [
      "--2024-01-28 11:43:26--  https://raw.githubusercontent.com/karpathy/char-rnn/master/data/tinyshakespeare/input.txt\n",
      "Resolving raw.githubusercontent.com (raw.githubusercontent.com)... 2606:50c0:8003::154, 2606:50c0:8000::154, 2606:50c0:8001::154, ...\n",
      "Connecting to raw.githubusercontent.com (raw.githubusercontent.com)|2606:50c0:8003::154|:443... connected.\n",
      "HTTP request sent, awaiting response... 200 OK\n",
      "Length: 1115394 (1.1M) [text/plain]\n",
      "Saving to: ‘input.txt.2’\n",
      "\n",
      "input.txt.2         100%[===================>]   1.06M  --.-KB/s    in 0.1s    \n",
      "\n",
      "2024-01-28 11:43:26 (8.27 MB/s) - ‘input.txt.2’ saved [1115394/1115394]\n",
      "\n"
     ]
    }
   ],
   "source": [
    "!wget https://raw.githubusercontent.com/karpathy/char-rnn/master/data/tinyshakespeare/input.txt"
   ]
  },
  {
   "cell_type": "markdown",
   "metadata": {},
   "source": [
    "### 1.1 Read data"
   ]
  },
  {
   "cell_type": "code",
   "execution_count": 4,
   "metadata": {},
   "outputs": [
    {
     "name": "stdout",
     "output_type": "stream",
     "text": [
      "length of dataset in characters:  1115394\n",
      "first 1000 characters:  First Citizen:\n",
      "Before we proceed any further, hear me speak.\n",
      "\n",
      "All:\n",
      "Speak, speak.\n",
      "\n",
      "First Citizen:\n",
      "You are all resolved rather to die than to famish?\n",
      "\n",
      "All:\n",
      "Resolved. resolved.\n",
      "\n",
      "First Citizen:\n",
      "First, you know Caius Marcius is chief enemy to the people.\n",
      "\n",
      "All:\n",
      "We know't, we know't.\n",
      "\n",
      "First Citizen:\n",
      "Let us kill him, and we'll have corn at our own price.\n",
      "Is't a verdict?\n",
      "\n",
      "All:\n",
      "No more talking on't; let it be done: away, away!\n",
      "\n",
      "Second Citizen:\n",
      "One word, good citizens.\n",
      "\n",
      "First Citizen:\n",
      "We are accounted poor citizens, the patricians good.\n",
      "What authority surfeits on would relieve us: if they\n",
      "would yield us but the superfluity, while it were\n",
      "wholesome, we might guess they relieved us humanely;\n",
      "but they think we are too dear: the leanness that\n",
      "afflicts us, the object of our misery, is as an\n",
      "inventory to particularise their abundance; our\n",
      "sufferance is a gain to them Let us revenge this with\n",
      "our pikes, ere we become rakes: for the gods know I\n",
      "speak this in hunger for bread, not in thirst for revenge.\n",
      "\n",
      "\n"
     ]
    }
   ],
   "source": [
    "with open('input.txt', 'r', encoding='utf-8') as f:\n",
    "    text = f.read()\n",
    "\n",
    "print(\"length of dataset in characters: \", len(text))\n",
    "print(\"first 1000 characters: \", text[:1000])"
   ]
  },
  {
   "cell_type": "markdown",
   "metadata": {},
   "source": [
    "### 1.2 Tokenizer"
   ]
  },
  {
   "cell_type": "code",
   "execution_count": 5,
   "metadata": {},
   "outputs": [
    {
     "name": "stdout",
     "output_type": "stream",
     "text": [
      "\n",
      " !$&',-.3:;?ABCDEFGHIJKLMNOPQRSTUVWXYZabcdefghijklmnopqrstuvwxyz\n",
      "65\n"
     ]
    }
   ],
   "source": [
    "chars = sorted(list(set(text)))\n",
    "vocab_size = len(chars)\n",
    "print(''.join(chars))\n",
    "print(vocab_size)"
   ]
  },
  {
   "cell_type": "code",
   "execution_count": 7,
   "metadata": {},
   "outputs": [
    {
     "name": "stdout",
     "output_type": "stream",
     "text": [
      "[46, 47, 47, 1, 58, 46, 43, 56, 43]\n",
      "hii there\n"
     ]
    }
   ],
   "source": [
    "# create a mapping from characters to integers\n",
    "stoi = { ch:i for i,ch in enumerate(chars) }\n",
    "itos = { i:ch for i,ch in enumerate(chars) }\n",
    "encode = lambda s: [stoi[c] for c in s] # encoder: take a string, output a list of integers\n",
    "decode = lambda l: ''.join([itos[i] for i in l]) # decoder: take a list of integers, output a string\n",
    "\n",
    "print(encode(\"hii there\"))\n",
    "print(decode(encode(\"hii there\")))"
   ]
  },
  {
   "cell_type": "markdown",
   "metadata": {},
   "source": [
    "### 1.3 Tokenize Data"
   ]
  },
  {
   "cell_type": "code",
   "execution_count": 14,
   "metadata": {},
   "outputs": [
    {
     "data": {
      "text/plain": [
       "(torch.Size([1115394]), torch.int64)"
      ]
     },
     "execution_count": 14,
     "metadata": {},
     "output_type": "execute_result"
    }
   ],
   "source": [
    "data = torch.tensor(encode(text), dtype=torch.long)\n",
    "data.shape, data.dtype"
   ]
  },
  {
   "cell_type": "code",
   "execution_count": 12,
   "metadata": {},
   "outputs": [
    {
     "data": {
      "text/plain": [
       "tensor([18, 47, 56,  ..., 45,  8,  0])"
      ]
     },
     "execution_count": 12,
     "metadata": {},
     "output_type": "execute_result"
    }
   ],
   "source": [
    "data"
   ]
  },
  {
   "cell_type": "code",
   "execution_count": 25,
   "metadata": {},
   "outputs": [
    {
     "data": {
      "text/plain": [
       "(torch.Size([1003854]), torch.Size([111540]))"
      ]
     },
     "execution_count": 25,
     "metadata": {},
     "output_type": "execute_result"
    }
   ],
   "source": [
    "n = int(len(data)*0.9)\n",
    "train_data, val_data = data[:n], data[n:]\n",
    "\n",
    "train_data.shape, val_data.shape"
   ]
  },
  {
   "cell_type": "markdown",
   "metadata": {},
   "source": [
    "### 1.4 Batch + Chunk"
   ]
  },
  {
   "cell_type": "code",
   "execution_count": 81,
   "metadata": {},
   "outputs": [],
   "source": [
    "block_size = 8  # chunk size\n",
    "batch_size = 4"
   ]
  },
  {
   "cell_type": "code",
   "execution_count": 23,
   "metadata": {},
   "outputs": [
    {
     "name": "stdout",
     "output_type": "stream",
     "text": [
      "tensor([18]) -> tensor(47)\n",
      "tensor([18, 47]) -> tensor(56)\n",
      "tensor([18, 47, 56]) -> tensor(57)\n",
      "tensor([18, 47, 56, 57]) -> tensor(58)\n",
      "tensor([18, 47, 56, 57, 58]) -> tensor(1)\n",
      "tensor([18, 47, 56, 57, 58,  1]) -> tensor(15)\n",
      "tensor([18, 47, 56, 57, 58,  1, 15]) -> tensor(47)\n",
      "tensor([18, 47, 56, 57, 58,  1, 15, 47]) -> tensor(58)\n"
     ]
    }
   ],
   "source": [
    "for t in range(1, block_size+1):\n",
    "    inputs = data[:t]\n",
    "    targets = data[t]\n",
    "    print(inputs, \"->\", targets)"
   ]
  },
  {
   "cell_type": "code",
   "execution_count": 341,
   "metadata": {},
   "outputs": [
    {
     "name": "stdout",
     "output_type": "stream",
     "text": [
      "torch.Size([32, 8]) torch.Size([32, 8])\n",
      "tensor([6]) -> tensor(1)\n",
      "tensor([6, 1]) -> tensor(52)\n",
      "tensor([ 6,  1, 52]) -> tensor(53)\n",
      "tensor([ 6,  1, 52, 53]) -> tensor(58)\n",
      "tensor([ 6,  1, 52, 53, 58]) -> tensor(1)\n",
      "tensor([ 6,  1, 52, 53, 58,  1]) -> tensor(58)\n",
      "tensor([ 6,  1, 52, 53, 58,  1, 58]) -> tensor(47)\n",
      "tensor([ 6,  1, 52, 53, 58,  1, 58, 47]) -> tensor(50)\n",
      "tensor([6]) -> tensor(1)\n",
      "tensor([6, 1]) -> tensor(54)\n",
      "tensor([ 6,  1, 54]) -> tensor(50)\n",
      "tensor([ 6,  1, 54, 50]) -> tensor(39)\n",
      "tensor([ 6,  1, 54, 50, 39]) -> tensor(52)\n",
      "tensor([ 6,  1, 54, 50, 39, 52]) -> tensor(58)\n",
      "tensor([ 6,  1, 54, 50, 39, 52, 58]) -> tensor(43)\n",
      "tensor([ 6,  1, 54, 50, 39, 52, 58, 43]) -> tensor(58)\n",
      "tensor([1]) -> tensor(58)\n",
      "tensor([ 1, 58]) -> tensor(46)\n",
      "tensor([ 1, 58, 46]) -> tensor(47)\n",
      "tensor([ 1, 58, 46, 47]) -> tensor(57)\n",
      "tensor([ 1, 58, 46, 47, 57]) -> tensor(1)\n",
      "tensor([ 1, 58, 46, 47, 57,  1]) -> tensor(50)\n",
      "tensor([ 1, 58, 46, 47, 57,  1, 50]) -> tensor(47)\n",
      "tensor([ 1, 58, 46, 47, 57,  1, 50, 47]) -> tensor(60)\n",
      "tensor([0]) -> tensor(32)\n",
      "tensor([ 0, 32]) -> tensor(46)\n",
      "tensor([ 0, 32, 46]) -> tensor(43)\n",
      "tensor([ 0, 32, 46, 43]) -> tensor(56)\n",
      "tensor([ 0, 32, 46, 43, 56]) -> tensor(43)\n",
      "tensor([ 0, 32, 46, 43, 56, 43]) -> tensor(1)\n",
      "tensor([ 0, 32, 46, 43, 56, 43,  1]) -> tensor(42)\n",
      "tensor([ 0, 32, 46, 43, 56, 43,  1, 42]) -> tensor(53)\n",
      "tensor([1]) -> tensor(47)\n",
      "tensor([ 1, 47]) -> tensor(57)\n",
      "tensor([ 1, 47, 57]) -> tensor(1)\n",
      "tensor([ 1, 47, 57,  1]) -> tensor(58)\n",
      "tensor([ 1, 47, 57,  1, 58]) -> tensor(46)\n",
      "tensor([ 1, 47, 57,  1, 58, 46]) -> tensor(43)\n",
      "tensor([ 1, 47, 57,  1, 58, 46, 43]) -> tensor(1)\n",
      "tensor([ 1, 47, 57,  1, 58, 46, 43,  1]) -> tensor(44)\n",
      "tensor([0]) -> tensor(32)\n",
      "tensor([ 0, 32]) -> tensor(46)\n",
      "tensor([ 0, 32, 46]) -> tensor(47)\n",
      "tensor([ 0, 32, 46, 47]) -> tensor(57)\n",
      "tensor([ 0, 32, 46, 47, 57]) -> tensor(1)\n",
      "tensor([ 0, 32, 46, 47, 57,  1]) -> tensor(44)\n",
      "tensor([ 0, 32, 46, 47, 57,  1, 44]) -> tensor(39)\n",
      "tensor([ 0, 32, 46, 47, 57,  1, 44, 39]) -> tensor(60)\n",
      "tensor([58]) -> tensor(61)\n",
      "tensor([58, 61]) -> tensor(39)\n",
      "tensor([58, 61, 39]) -> tensor(56)\n",
      "tensor([58, 61, 39, 56]) -> tensor(42)\n",
      "tensor([58, 61, 39, 56, 42]) -> tensor(1)\n",
      "tensor([58, 61, 39, 56, 42,  1]) -> tensor(44)\n",
      "tensor([58, 61, 39, 56, 42,  1, 44]) -> tensor(39)\n",
      "tensor([58, 61, 39, 56, 42,  1, 44, 39]) -> tensor(41)\n",
      "tensor([27]) -> tensor(10)\n",
      "tensor([27, 10]) -> tensor(0)\n",
      "tensor([27, 10,  0]) -> tensor(35)\n",
      "tensor([27, 10,  0, 35]) -> tensor(46)\n",
      "tensor([27, 10,  0, 35, 46]) -> tensor(63)\n",
      "tensor([27, 10,  0, 35, 46, 63]) -> tensor(6)\n",
      "tensor([27, 10,  0, 35, 46, 63,  6]) -> tensor(1)\n",
      "tensor([27, 10,  0, 35, 46, 63,  6,  1]) -> tensor(28)\n",
      "tensor([7]) -> tensor(42)\n",
      "tensor([ 7, 42]) -> tensor(39)\n",
      "tensor([ 7, 42, 39]) -> tensor(63)\n",
      "tensor([ 7, 42, 39, 63]) -> tensor(6)\n",
      "tensor([ 7, 42, 39, 63,  6]) -> tensor(1)\n",
      "tensor([ 7, 42, 39, 63,  6,  1]) -> tensor(52)\n",
      "tensor([ 7, 42, 39, 63,  6,  1, 52]) -> tensor(53)\n",
      "tensor([ 7, 42, 39, 63,  6,  1, 52, 53]) -> tensor(56)\n",
      "tensor([61]) -> tensor(6)\n",
      "tensor([61,  6]) -> tensor(1)\n",
      "tensor([61,  6,  1]) -> tensor(39)\n",
      "tensor([61,  6,  1, 39]) -> tensor(57)\n",
      "tensor([61,  6,  1, 39, 57]) -> tensor(1)\n",
      "tensor([61,  6,  1, 39, 57,  1]) -> tensor(61)\n",
      "tensor([61,  6,  1, 39, 57,  1, 61]) -> tensor(43)\n",
      "tensor([61,  6,  1, 39, 57,  1, 61, 43]) -> tensor(50)\n",
      "tensor([1]) -> tensor(54)\n",
      "tensor([ 1, 54]) -> tensor(50)\n",
      "tensor([ 1, 54, 50]) -> tensor(39)\n",
      "tensor([ 1, 54, 50, 39]) -> tensor(45)\n",
      "tensor([ 1, 54, 50, 39, 45]) -> tensor(59)\n",
      "tensor([ 1, 54, 50, 39, 45, 59]) -> tensor(43)\n",
      "tensor([ 1, 54, 50, 39, 45, 59, 43]) -> tensor(1)\n",
      "tensor([ 1, 54, 50, 39, 45, 59, 43,  1]) -> tensor(59)\n",
      "tensor([1]) -> tensor(52)\n",
      "tensor([ 1, 52]) -> tensor(53)\n",
      "tensor([ 1, 52, 53]) -> tensor(58)\n",
      "tensor([ 1, 52, 53, 58]) -> tensor(1)\n",
      "tensor([ 1, 52, 53, 58,  1]) -> tensor(46)\n",
      "tensor([ 1, 52, 53, 58,  1, 46]) -> tensor(47)\n",
      "tensor([ 1, 52, 53, 58,  1, 46, 47]) -> tensor(57)\n",
      "tensor([ 1, 52, 53, 58,  1, 46, 47, 57]) -> tensor(1)\n",
      "tensor([47]) -> tensor(50)\n",
      "tensor([47, 50]) -> tensor(50)\n",
      "tensor([47, 50, 50]) -> tensor(1)\n",
      "tensor([47, 50, 50,  1]) -> tensor(46)\n",
      "tensor([47, 50, 50,  1, 46]) -> tensor(39)\n",
      "tensor([47, 50, 50,  1, 46, 39]) -> tensor(60)\n",
      "tensor([47, 50, 50,  1, 46, 39, 60]) -> tensor(43)\n",
      "tensor([47, 50, 50,  1, 46, 39, 60, 43]) -> tensor(1)\n",
      "tensor([57]) -> tensor(58)\n",
      "tensor([57, 58]) -> tensor(39)\n",
      "tensor([57, 58, 39]) -> tensor(63)\n",
      "tensor([57, 58, 39, 63]) -> tensor(1)\n",
      "tensor([57, 58, 39, 63,  1]) -> tensor(46)\n",
      "tensor([57, 58, 39, 63,  1, 46]) -> tensor(47)\n",
      "tensor([57, 58, 39, 63,  1, 46, 47]) -> tensor(51)\n",
      "tensor([57, 58, 39, 63,  1, 46, 47, 51]) -> tensor(1)\n",
      "tensor([56]) -> tensor(51)\n",
      "tensor([56, 51]) -> tensor(43)\n",
      "tensor([56, 51, 43]) -> tensor(52)\n",
      "tensor([56, 51, 43, 52]) -> tensor(58)\n",
      "tensor([56, 51, 43, 52, 58]) -> tensor(57)\n",
      "tensor([56, 51, 43, 52, 58, 57]) -> tensor(8)\n",
      "tensor([56, 51, 43, 52, 58, 57,  8]) -> tensor(0)\n",
      "tensor([56, 51, 43, 52, 58, 57,  8,  0]) -> tensor(0)\n",
      "tensor([52]) -> tensor(8)\n",
      "tensor([52,  8]) -> tensor(0)\n",
      "tensor([52,  8,  0]) -> tensor(0)\n",
      "tensor([52,  8,  0,  0]) -> tensor(19)\n",
      "tensor([52,  8,  0,  0, 19]) -> tensor(27)\n",
      "tensor([52,  8,  0,  0, 19, 27]) -> tensor(26)\n",
      "tensor([52,  8,  0,  0, 19, 27, 26]) -> tensor(38)\n",
      "tensor([52,  8,  0,  0, 19, 27, 26, 38]) -> tensor(13)\n",
      "tensor([57]) -> tensor(58)\n",
      "tensor([57, 58]) -> tensor(0)\n",
      "tensor([57, 58,  0]) -> tensor(35)\n",
      "tensor([57, 58,  0, 35]) -> tensor(46)\n",
      "tensor([57, 58,  0, 35, 46]) -> tensor(39)\n",
      "tensor([57, 58,  0, 35, 46, 39]) -> tensor(58)\n",
      "tensor([57, 58,  0, 35, 46, 39, 58]) -> tensor(1)\n",
      "tensor([57, 58,  0, 35, 46, 39, 58,  1]) -> tensor(58)\n",
      "tensor([58]) -> tensor(53)\n",
      "tensor([58, 53]) -> tensor(1)\n",
      "tensor([58, 53,  1]) -> tensor(41)\n",
      "tensor([58, 53,  1, 41]) -> tensor(53)\n",
      "tensor([58, 53,  1, 41, 53]) -> tensor(51)\n",
      "tensor([58, 53,  1, 41, 53, 51]) -> tensor(43)\n",
      "tensor([58, 53,  1, 41, 53, 51, 43]) -> tensor(1)\n",
      "tensor([58, 53,  1, 41, 53, 51, 43,  1]) -> tensor(58)\n",
      "tensor([0]) -> tensor(13)\n",
      "tensor([ 0, 13]) -> tensor(52)\n",
      "tensor([ 0, 13, 52]) -> tensor(42)\n",
      "tensor([ 0, 13, 52, 42]) -> tensor(1)\n",
      "tensor([ 0, 13, 52, 42,  1]) -> tensor(47)\n",
      "tensor([ 0, 13, 52, 42,  1, 47]) -> tensor(44)\n",
      "tensor([ 0, 13, 52, 42,  1, 47, 44]) -> tensor(1)\n",
      "tensor([ 0, 13, 52, 42,  1, 47, 44,  1]) -> tensor(52)\n",
      "tensor([43]) -> tensor(43)\n",
      "tensor([43, 43]) -> tensor(41)\n",
      "tensor([43, 43, 41]) -> tensor(46)\n",
      "tensor([43, 43, 41, 46]) -> tensor(0)\n",
      "tensor([43, 43, 41, 46,  0]) -> tensor(50)\n",
      "tensor([43, 43, 41, 46,  0, 50]) -> tensor(47)\n",
      "tensor([43, 43, 41, 46,  0, 50, 47]) -> tensor(57)\n",
      "tensor([43, 43, 41, 46,  0, 50, 47, 57]) -> tensor(58)\n",
      "tensor([33]) -> tensor(15)\n",
      "tensor([33, 15]) -> tensor(20)\n",
      "tensor([33, 15, 20]) -> tensor(21)\n",
      "tensor([33, 15, 20, 21]) -> tensor(27)\n",
      "tensor([33, 15, 20, 21, 27]) -> tensor(10)\n",
      "tensor([33, 15, 20, 21, 27, 10]) -> tensor(0)\n",
      "tensor([33, 15, 20, 21, 27, 10,  0]) -> tensor(37)\n",
      "tensor([33, 15, 20, 21, 27, 10,  0, 37]) -> tensor(53)\n",
      "tensor([39]) -> tensor(58)\n",
      "tensor([39, 58]) -> tensor(46)\n",
      "tensor([39, 58, 46]) -> tensor(43)\n",
      "tensor([39, 58, 46, 43]) -> tensor(56)\n",
      "tensor([39, 58, 46, 43, 56]) -> tensor(1)\n",
      "tensor([39, 58, 46, 43, 56,  1]) -> tensor(61)\n",
      "tensor([39, 58, 46, 43, 56,  1, 61]) -> tensor(43)\n",
      "tensor([39, 58, 46, 43, 56,  1, 61, 43]) -> tensor(50)\n",
      "tensor([53]) -> tensor(52)\n",
      "tensor([53, 52]) -> tensor(53)\n",
      "tensor([53, 52, 53]) -> tensor(59)\n",
      "tensor([53, 52, 53, 59]) -> tensor(57)\n",
      "tensor([53, 52, 53, 59, 57]) -> tensor(1)\n",
      "tensor([53, 52, 53, 59, 57,  1]) -> tensor(57)\n",
      "tensor([53, 52, 53, 59, 57,  1, 57]) -> tensor(50)\n",
      "tensor([53, 52, 53, 59, 57,  1, 57, 50]) -> tensor(39)\n",
      "tensor([56]) -> tensor(47)\n",
      "tensor([56, 47]) -> tensor(57)\n",
      "tensor([56, 47, 57]) -> tensor(57)\n",
      "tensor([56, 47, 57, 57]) -> tensor(43)\n",
      "tensor([56, 47, 57, 57, 43]) -> tensor(50)\n",
      "tensor([56, 47, 57, 57, 43, 50]) -> tensor(6)\n",
      "tensor([56, 47, 57, 57, 43, 50,  6]) -> tensor(0)\n",
      "tensor([56, 47, 57, 57, 43, 50,  6,  0]) -> tensor(13)\n",
      "tensor([60]) -> tensor(43)\n",
      "tensor([60, 43]) -> tensor(57)\n",
      "tensor([60, 43, 57]) -> tensor(1)\n",
      "tensor([60, 43, 57,  1]) -> tensor(46)\n",
      "tensor([60, 43, 57,  1, 46]) -> tensor(53)\n",
      "tensor([60, 43, 57,  1, 46, 53]) -> tensor(61)\n",
      "tensor([60, 43, 57,  1, 46, 53, 61]) -> tensor(50)\n",
      "tensor([60, 43, 57,  1, 46, 53, 61, 50]) -> tensor(1)\n",
      "tensor([50]) -> tensor(1)\n",
      "tensor([50,  1]) -> tensor(58)\n",
      "tensor([50,  1, 58]) -> tensor(46)\n",
      "tensor([50,  1, 58, 46]) -> tensor(47)\n",
      "tensor([50,  1, 58, 46, 47]) -> tensor(52)\n",
      "tensor([50,  1, 58, 46, 47, 52]) -> tensor(45)\n",
      "tensor([50,  1, 58, 46, 47, 52, 45]) -> tensor(1)\n",
      "tensor([50,  1, 58, 46, 47, 52, 45,  1]) -> tensor(47)\n",
      "tensor([1]) -> tensor(46)\n",
      "tensor([ 1, 46]) -> tensor(43)\n",
      "tensor([ 1, 46, 43]) -> tensor(56)\n",
      "tensor([ 1, 46, 43, 56]) -> tensor(6)\n",
      "tensor([ 1, 46, 43, 56,  6]) -> tensor(1)\n",
      "tensor([ 1, 46, 43, 56,  6,  1]) -> tensor(46)\n",
      "tensor([ 1, 46, 43, 56,  6,  1, 46]) -> tensor(53)\n",
      "tensor([ 1, 46, 43, 56,  6,  1, 46, 53]) -> tensor(61)\n",
      "tensor([26]) -> tensor(13)\n",
      "tensor([26, 13]) -> tensor(10)\n",
      "tensor([26, 13, 10]) -> tensor(0)\n",
      "tensor([26, 13, 10,  0]) -> tensor(35)\n",
      "tensor([26, 13, 10,  0, 35]) -> tensor(46)\n",
      "tensor([26, 13, 10,  0, 35, 46]) -> tensor(63)\n",
      "tensor([26, 13, 10,  0, 35, 46, 63]) -> tensor(6)\n",
      "tensor([26, 13, 10,  0, 35, 46, 63,  6]) -> tensor(1)\n",
      "tensor([57]) -> tensor(1)\n",
      "tensor([57,  1]) -> tensor(58)\n",
      "tensor([57,  1, 58]) -> tensor(53)\n",
      "tensor([57,  1, 58, 53]) -> tensor(52)\n",
      "tensor([57,  1, 58, 53, 52]) -> tensor(45)\n",
      "tensor([57,  1, 58, 53, 52, 45]) -> tensor(59)\n",
      "tensor([57,  1, 58, 53, 52, 45, 59]) -> tensor(43)\n",
      "tensor([57,  1, 58, 53, 52, 45, 59, 43]) -> tensor(8)\n",
      "tensor([59]) -> tensor(56)\n",
      "tensor([59, 56]) -> tensor(1)\n",
      "tensor([59, 56,  1]) -> tensor(54)\n",
      "tensor([59, 56,  1, 54]) -> tensor(50)\n",
      "tensor([59, 56,  1, 54, 50]) -> tensor(43)\n",
      "tensor([59, 56,  1, 54, 50, 43]) -> tensor(39)\n",
      "tensor([59, 56,  1, 54, 50, 43, 39]) -> tensor(57)\n",
      "tensor([59, 56,  1, 54, 50, 43, 39, 57]) -> tensor(59)\n",
      "tensor([52]) -> tensor(43)\n",
      "tensor([52, 43]) -> tensor(8)\n",
      "tensor([52, 43,  8]) -> tensor(0)\n",
      "tensor([52, 43,  8,  0]) -> tensor(0)\n",
      "tensor([52, 43,  8,  0,  0]) -> tensor(19)\n",
      "tensor([52, 43,  8,  0,  0, 19]) -> tensor(27)\n",
      "tensor([52, 43,  8,  0,  0, 19, 27]) -> tensor(26)\n",
      "tensor([52, 43,  8,  0,  0, 19, 27, 26]) -> tensor(38)\n",
      "tensor([0]) -> tensor(61)\n",
      "tensor([ 0, 61]) -> tensor(47)\n",
      "tensor([ 0, 61, 47]) -> tensor(42)\n",
      "tensor([ 0, 61, 47, 42]) -> tensor(53)\n",
      "tensor([ 0, 61, 47, 42, 53]) -> tensor(61)\n",
      "tensor([ 0, 61, 47, 42, 53, 61]) -> tensor(1)\n",
      "tensor([ 0, 61, 47, 42, 53, 61,  1]) -> tensor(16)\n",
      "tensor([ 0, 61, 47, 42, 53, 61,  1, 16]) -> tensor(47)\n"
     ]
    }
   ],
   "source": [
    "torch.manual_seed(SEED)\n",
    "\n",
    "def random_chunks(data, block_size, batch_size):\n",
    "    idxs = torch.randint(len(data) - block_size, (batch_size, ))\n",
    "    return (\n",
    "        torch.stack([data[i: i+block_size] for i in idxs]), \n",
    "        torch.stack([data[i+1: i+1+block_size] for i in idxs]),\n",
    "    )\n",
    "\n",
    "x, y = random_chunks(data=val_data, block_size=block_size, batch_size=batch_size)\n",
    "print(x.shape, y.shape)\n",
    "\n",
    "for b in range(batch_size):\n",
    "    for t in range(block_size):\n",
    "        ctx = x[b, :t+1]\n",
    "        tgt = y[b, t]\n",
    "        print(ctx, \"->\", tgt)"
   ]
  },
  {
   "cell_type": "markdown",
   "metadata": {},
   "source": [
    "## 2. Model"
   ]
  },
  {
   "cell_type": "markdown",
   "metadata": {},
   "source": [
    "### 2.1 BiGramLanguage Model"
   ]
  },
  {
   "cell_type": "code",
   "execution_count": 343,
   "metadata": {},
   "outputs": [
    {
     "name": "stdout",
     "output_type": "stream",
     "text": [
      "torch.Size([256, 65])\n",
      "tensor(4.5696, grad_fn=<NllLossBackward0>)\n",
      "torch.Size([1, 501])\n",
      "\n",
      "Sr?qP-QWktXoL&jLDJgOLVz'RIoDqHdhsV&vLLxatjscMpwLERSPyao.qfzs$Ys$zF-w,;eEkzxjgCKFChs!iWW.ObzDnxA Ms$3!dcbf?pGXepydZJSrF$Jrqt!:wwWSzPNxbjPiD&Q!a;yNt$Kr$o-gC$WSjJqfBKBySKtSKpwNNfyl&w:q-jluBatD$Lj;?yzyUca!UQ!vrpxZQgC-hlkq,ptKqHoiX-jjeLJ &slERj KUsBOL!mpJO!zLg'wNfqHAMgq'hZCWhu.W.IBcP \n",
      "RFJ&DEs,nw?pxE?xjNHHVxJ&D&vWWToiERJFuszPyZaNw$\n",
      "EQJMgzaveDDIoiMl&sMHkzdRptRCPVjwW.RSVMjs-bgRkzrBTEa!!oP fRSxq.PLboTMkX'DUYepxIBFAYuxKXe.jeh\n",
      "sa!3MGFrSjuM:wX!?BTMl!.?,M:bQzPHpYfN!Cbo'MmtDxBkDD3SBjyFdmY'DOqkWeRjlxyJB-bVbfd&\n"
     ]
    }
   ],
   "source": [
    "torch.manual_seed(SEED)\n",
    "\n",
    "class BigramLanguageModel(nn.Module):\n",
    "\n",
    "    def __init__(self, vocab_size):\n",
    "        super().__init__()\n",
    "        self.embedding = nn.Embedding(vocab_size, vocab_size)\n",
    "\n",
    "    @property\n",
    "    def device(self):\n",
    "        return self.embedding.weight.device\n",
    "\n",
    "    def forward(self, idx, targets=None):\n",
    "        logits = self.embedding(idx) # B, T, C, (4, 8) --> (4, 8, 65)\n",
    "\n",
    "        if targets is not None:\n",
    "            B, T, C = logits.shape\n",
    "            logits = logits.view(B*T, C)\n",
    "            targets = targets.view(B*T)\n",
    "            loss = F.cross_entropy(logits, targets)\n",
    "            return logits, loss\n",
    "        \n",
    "        return logits, None\n",
    "    \n",
    "    def generate(self, idx, max_new_tokens):\n",
    "        \n",
    "        for _ in range(max_new_tokens):\n",
    "            logits, _ = self(idx) # B, T, C\n",
    "            last_logits = logits[:, -1, :]  # B, -1, C --> B, C\n",
    "           \n",
    "            probs = F.softmax(last_logits, dim=-1)  # B, C\n",
    "            next_idx = torch.multinomial(probs, num_samples=1) # B, 1\n",
    "            idx = torch.cat([idx, next_idx], dim=1)\n",
    "        return idx\n",
    "    \n",
    "\n",
    "m = BigramLanguageModel(vocab_size=vocab_size)\n",
    "logits, loss = m(x, y)  \n",
    "print(logits.shape) \n",
    "print(loss)\n",
    "\n",
    "start_token = torch.zeros((1, 1), dtype=torch.long)\n",
    "generated_tokens = m.generate(idx=start_token, max_new_tokens=500)\n",
    "print(generated_tokens.shape)\n",
    "\n",
    "print(decode(generated_tokens[0].tolist()))"
   ]
  },
  {
   "cell_type": "code",
   "execution_count": 179,
   "metadata": {},
   "outputs": [],
   "source": [
    "optimizer = torch.optim.AdamW(m.parameters(), lr=1e-3)"
   ]
  },
  {
   "cell_type": "code",
   "execution_count": 287,
   "metadata": {},
   "outputs": [
    {
     "data": {
      "text/plain": [
       "device(type='cuda')"
      ]
     },
     "execution_count": 287,
     "metadata": {},
     "output_type": "execute_result"
    }
   ],
   "source": [
    "device = torch.device('cuda' if torch.cuda.is_available() else 'cpu')\n",
    "device"
   ]
  },
  {
   "cell_type": "code",
   "execution_count": 346,
   "metadata": {},
   "outputs": [
    {
     "name": "stdout",
     "output_type": "stream",
     "text": [
      "cuda:0\n"
     ]
    }
   ],
   "source": [
    "m = BigramLanguageModel(vocab_size=vocab_size)\n",
    "m = m.to(device)\n",
    "print(m.device)\n",
    "\n",
    "optimizer = torch.optim.AdamW(m.parameters(), lr=1e-3)"
   ]
  },
  {
   "cell_type": "code",
   "execution_count": 347,
   "metadata": {},
   "outputs": [
    {
     "name": "stdout",
     "output_type": "stream",
     "text": [
      "2.456115484237671\n"
     ]
    }
   ],
   "source": [
    "batch_size = 32\n",
    "\n",
    "for steps in range(10_000):\n",
    "\n",
    "    x, y = random_chunks(data=train_data, block_size=block_size, batch_size=batch_size)\n",
    "    x, y = x.to(device=device), y.to(device=device)\n",
    "    logits, loss = m(x, y)\n",
    "    optimizer.zero_grad(set_to_none=True)\n",
    "    loss.backward()\n",
    "    optimizer.step()\n",
    "    # print(loss.item())\n",
    "print(loss.item())"
   ]
  },
  {
   "cell_type": "code",
   "execution_count": 352,
   "metadata": {},
   "outputs": [
    {
     "name": "stdout",
     "output_type": "stream",
     "text": [
      "\n",
      "Thins; s ookesthouk bl,-mer, s, es s;\n",
      "RICld t olk verescee Clll!\n",
      "Y theee isheresed we h, st ar\n",
      "ENCELONcedrveiryo derk ht kng\n",
      "NG thin.\n",
      "To'd!RWANERUSTRI she. ar?\n",
      "EEYOR:\n",
      "IA:\n",
      "Whthathe couf mhir, byoass ooung, hathese hawaye hernd end,\n",
      "My wiflouth se ma ar h ccr ces cilt, ofamongl,\n",
      "Youlateald weat r theat bef fowalo'dooorrt bur IULENRerower lifl he punint gur outo theayoourer:\n",
      "Anow.\n",
      "Whur woury po my,\n",
      "The,\n",
      "IALEseng,\n",
      "Jag. d bV:\n",
      "EDofld\n",
      "Lor s PR pat ingr brifo s men'ed.\n",
      "Whathme s his ote h henike o an we\n"
     ]
    }
   ],
   "source": [
    "gen_text = decode(m.generate(idx=torch.zeros((1, 1), dtype=torch.long, device=device), max_new_tokens=500)[0].tolist())\n",
    "print(gen_text)"
   ]
  },
  {
   "cell_type": "markdown",
   "metadata": {},
   "source": [
    "## Maths behind self-attention\n",
    "\n",
    "### Toy example"
   ]
  },
  {
   "cell_type": "code",
   "execution_count": 394,
   "metadata": {},
   "outputs": [
    {
     "data": {
      "text/plain": [
       "torch.Size([4, 8, 2])"
      ]
     },
     "execution_count": 394,
     "metadata": {},
     "output_type": "execute_result"
    }
   ],
   "source": [
    "torch.manual_seed(SEED)\n",
    "\n",
    "B, T, C = 4, 8, 2\n",
    "x = torch.randn(B, T, C)\n",
    "x.shape"
   ]
  },
  {
   "cell_type": "code",
   "execution_count": 405,
   "metadata": {},
   "outputs": [
    {
     "data": {
      "text/plain": [
       "(torch.Size([4, 8, 2]),\n",
       " tensor([[ 0.1808, -0.0700],\n",
       "         [-0.0894, -0.4926],\n",
       "         [ 0.1490, -0.3199],\n",
       "         [ 0.3504, -0.2238],\n",
       "         [ 0.3525,  0.0545],\n",
       "         [ 0.0688, -0.0396],\n",
       "         [ 0.0927, -0.0682],\n",
       "         [-0.0341,  0.1332]]))"
      ]
     },
     "execution_count": 405,
     "metadata": {},
     "output_type": "execute_result"
    }
   ],
   "source": [
    "# Version 1: Get average of context vectors\n",
    "# Brute force method\n",
    "\n",
    "xbow = torch.zeros(B, T, C)     # Dummy output\n",
    "for b in range(B):              # For each batch    \n",
    "    for t in range(T):          # For each token\n",
    "        ctx = x[b, :t+1]        # Get context\n",
    "        avg = ctx.mean(dim=0)   # Average context tokens\n",
    "        xbow[b, t] = avg        # Store in output dummy tensor\n",
    "        \n",
    "xbow.shape, xbow[0]"
   ]
  },
  {
   "cell_type": "code",
   "execution_count": 413,
   "metadata": {},
   "outputs": [
    {
     "name": "stdout",
     "output_type": "stream",
     "text": [
      "wei=tensor([[1.0000, 0.0000, 0.0000, 0.0000, 0.0000, 0.0000, 0.0000, 0.0000],\n",
      "        [0.5000, 0.5000, 0.0000, 0.0000, 0.0000, 0.0000, 0.0000, 0.0000],\n",
      "        [0.3333, 0.3333, 0.3333, 0.0000, 0.0000, 0.0000, 0.0000, 0.0000],\n",
      "        [0.2500, 0.2500, 0.2500, 0.2500, 0.0000, 0.0000, 0.0000, 0.0000],\n",
      "        [0.2000, 0.2000, 0.2000, 0.2000, 0.2000, 0.0000, 0.0000, 0.0000],\n",
      "        [0.1667, 0.1667, 0.1667, 0.1667, 0.1667, 0.1667, 0.0000, 0.0000],\n",
      "        [0.1429, 0.1429, 0.1429, 0.1429, 0.1429, 0.1429, 0.1429, 0.0000],\n",
      "        [0.1250, 0.1250, 0.1250, 0.1250, 0.1250, 0.1250, 0.1250, 0.1250]])\n"
     ]
    },
    {
     "data": {
      "text/plain": [
       "(torch.Size([4, 8, 2]),\n",
       " tensor([[ 0.1808, -0.0700],\n",
       "         [-0.0894, -0.4926],\n",
       "         [ 0.1490, -0.3199],\n",
       "         [ 0.3504, -0.2238],\n",
       "         [ 0.3525,  0.0545],\n",
       "         [ 0.0688, -0.0396],\n",
       "         [ 0.0927, -0.0682],\n",
       "         [-0.0341,  0.1332]]))"
      ]
     },
     "execution_count": 413,
     "metadata": {},
     "output_type": "execute_result"
    }
   ],
   "source": [
    "# Version 2: using triangular matrix for context\n",
    "\n",
    "wei = torch.tril(torch.ones((T, T)))    # Lower Triangular matrix\n",
    "wei /= wei.sum(-1, keepdim=True)        # Normalize weights along each row to sum as 1.\n",
    "xbow2 = wei @ x                         # multiply wei (weights) with x, to get weights average. B is broadcasted\n",
    "\n",
    "\n",
    "print(f\"{wei=}\")\n",
    "xbow2.shape, xbow2[0]"
   ]
  },
  {
   "cell_type": "code",
   "execution_count": 414,
   "metadata": {},
   "outputs": [
    {
     "name": "stdout",
     "output_type": "stream",
     "text": [
      "wei=tensor([[1.0000, 0.0000, 0.0000, 0.0000, 0.0000, 0.0000, 0.0000, 0.0000],\n",
      "        [0.5000, 0.5000, 0.0000, 0.0000, 0.0000, 0.0000, 0.0000, 0.0000],\n",
      "        [0.3333, 0.3333, 0.3333, 0.0000, 0.0000, 0.0000, 0.0000, 0.0000],\n",
      "        [0.2500, 0.2500, 0.2500, 0.2500, 0.0000, 0.0000, 0.0000, 0.0000],\n",
      "        [0.2000, 0.2000, 0.2000, 0.2000, 0.2000, 0.0000, 0.0000, 0.0000],\n",
      "        [0.1667, 0.1667, 0.1667, 0.1667, 0.1667, 0.1667, 0.0000, 0.0000],\n",
      "        [0.1429, 0.1429, 0.1429, 0.1429, 0.1429, 0.1429, 0.1429, 0.0000],\n",
      "        [0.1250, 0.1250, 0.1250, 0.1250, 0.1250, 0.1250, 0.1250, 0.1250]])\n"
     ]
    },
    {
     "data": {
      "text/plain": [
       "(torch.Size([4, 8, 2]),\n",
       " tensor([[ 0.1808, -0.0700],\n",
       "         [-0.0894, -0.4926],\n",
       "         [ 0.1490, -0.3199],\n",
       "         [ 0.3504, -0.2238],\n",
       "         [ 0.3525,  0.0545],\n",
       "         [ 0.0688, -0.0396],\n",
       "         [ 0.0927, -0.0682],\n",
       "         [-0.0341,  0.1332]]))"
      ]
     },
     "execution_count": 414,
     "metadata": {},
     "output_type": "execute_result"
    }
   ],
   "source": [
    "# Version 3 : Softmax\n",
    "# Same as version 2, but using softmax instead of manual normalization,\n",
    "# This helps in version 4's intution to calculate wei matrix as a dot product of two vectors. (similarity of key, query)\n",
    "\n",
    "tril = torch.tril(torch.ones((T, T)))               # Lower Triangular matrix\n",
    "wei = torch.zeros((T, T))                           # Dummy weights matrix\n",
    "wei = wei.masked_fill(tril == 0, float('-inf'))     # Mask out upper triangular matrix to -inf for softmax to return 0\n",
    "wei = F.softmax(wei, dim=-1)                        # Softmax along rows, gives out same wei as version 2.\n",
    "xbow3 = wei @ x\n",
    "\n",
    "print(f\"{wei=}\")\n",
    "xbow3.shape, xbow3[0]"
   ]
  },
  {
   "cell_type": "code",
   "execution_count": 419,
   "metadata": {},
   "outputs": [
    {
     "name": "stdout",
     "output_type": "stream",
     "text": [
      "wei[0]=tensor([[1.0000, 0.0000, 0.0000, 0.0000, 0.0000, 0.0000, 0.0000, 0.0000],\n",
      "        [0.6148, 0.3852, 0.0000, 0.0000, 0.0000, 0.0000, 0.0000, 0.0000],\n",
      "        [0.3517, 0.2045, 0.4438, 0.0000, 0.0000, 0.0000, 0.0000, 0.0000],\n",
      "        [0.2126, 0.0950, 0.3036, 0.3887, 0.0000, 0.0000, 0.0000, 0.0000],\n",
      "        [0.1686, 0.3346, 0.2068, 0.2505, 0.0395, 0.0000, 0.0000, 0.0000],\n",
      "        [0.0900, 0.1956, 0.0530, 0.0361, 0.0583, 0.5671, 0.0000, 0.0000],\n",
      "        [0.1370, 0.0900, 0.1473, 0.1532, 0.2437, 0.1015, 0.1273, 0.0000],\n",
      "        [0.0628, 0.5481, 0.0491, 0.0444, 0.0026, 0.1951, 0.0970, 0.0010]],\n",
      "       grad_fn=<SelectBackward0>)\n"
     ]
    },
    {
     "data": {
      "text/plain": [
       "(torch.Size([4, 8, 16]),\n",
       " tensor([[-0.1027,  0.1132, -0.0518,  0.1425, -0.1165,  0.0059, -0.1514,  0.0051,\n",
       "           0.1137, -0.1668,  0.0495,  0.0394,  0.0073, -0.0748,  0.0068, -0.1065],\n",
       "         [-0.1870,  0.0150, -0.2778,  0.0643, -0.1843, -0.0262, -0.2306,  0.0869,\n",
       "          -0.0337, -0.2108, -0.2747, -0.2018,  0.2746,  0.0031,  0.2642,  0.0464],\n",
       "         [-0.2004,  0.1753, -0.1448,  0.2315, -0.2206,  0.0027, -0.2846,  0.0285,\n",
       "           0.1646, -0.3032,  0.0097,  0.0118,  0.0765, -0.1127,  0.0733, -0.1506],\n",
       "         [-0.2465,  0.3421, -0.0568,  0.4139, -0.2897,  0.0278, -0.3799, -0.0163,\n",
       "           0.3617, -0.4345,  0.2533,  0.1955, -0.0788, -0.2307, -0.0765, -0.3443],\n",
       "         [-0.2348,  0.1943, -0.1804,  0.2599, -0.2569,  0.0010, -0.3309,  0.0379,\n",
       "           0.1788, -0.3499, -0.0100, -0.0022,  0.1049, -0.1239,  0.1005, -0.1624],\n",
       "         [ 0.0733, -0.4034, -0.2727, -0.4311,  0.1299, -0.0666,  0.1839,  0.1273,\n",
       "          -0.4877,  0.2757, -0.6514, -0.4901,  0.4360,  0.2884,  0.4205,  0.4818],\n",
       "         [-0.0176,  0.1164,  0.0841,  0.1235, -0.0341,  0.0198, -0.0488, -0.0385,\n",
       "           0.1417, -0.0758,  0.1936,  0.1456, -0.1313, -0.0835, -0.1266, -0.1402],\n",
       "         [-0.1768, -0.1612, -0.4309, -0.1183, -0.1488, -0.0587, -0.1768,  0.1534,\n",
       "          -0.2528, -0.1140, -0.5946, -0.4419,  0.4995,  0.1307,  0.4810,  0.2645]],\n",
       "        grad_fn=<SelectBackward0>))"
      ]
     },
     "execution_count": 419,
     "metadata": {},
     "output_type": "execute_result"
    }
   ],
   "source": [
    "# Version 4 : Dot Product or Self Attention \n",
    "# Using dot product of query and key to calculate weights (wei)\n",
    "\n",
    "n_head_dim = 16\n",
    "\n",
    "key = nn.Linear(C, n_head_dim, bias=False)      # Query\n",
    "query = nn.Linear(C, n_head_dim, bias=False)    # Key\n",
    "value = nn.Linear(C, n_head_dim, bias=False)    # Value\n",
    "\n",
    "k = key(x)                                      # B, T, C --> B, T, n_head_dim\n",
    "q = query(x)                                    # B, T, C --> B, T, n_head_dim\n",
    "v = value(x)                                    # B, T, C --> B, T, n_head_dim\n",
    "\n",
    "wei = q @ k.transpose(-2, -1)                   # B, T, n_head_dim @ B, n_head_dim, T --> B, T, T\n",
    "\n",
    "tril = torch.tril(torch.ones((T, T)))               # Lower Triangular matrix\n",
    "# wei = torch.zeros((T, T))                           # Dummy weights matrix\n",
    "wei = wei.masked_fill(tril == 0, float('-inf'))     # Mask out upper triangular matrix to -inf for softmax to return 0\n",
    "wei = F.softmax(wei, dim=-1)                        # Softmax along rows, gives out same wei as version 2.\n",
    "xbow4 = wei @ v\n",
    "\n",
    "print(f\"{wei[0]=}\")  # Note here wei is not braodcasted, as we have B here. \n",
    "xbow4.shape, xbow4[0]"
   ]
  },
  {
   "cell_type": "code",
   "execution_count": null,
   "metadata": {},
   "outputs": [],
   "source": []
  }
 ],
 "metadata": {
  "kernelspec": {
   "display_name": "base",
   "language": "python",
   "name": "python3"
  },
  "language_info": {
   "codemirror_mode": {
    "name": "ipython",
    "version": 3
   },
   "file_extension": ".py",
   "mimetype": "text/x-python",
   "name": "python",
   "nbconvert_exporter": "python",
   "pygments_lexer": "ipython3",
   "version": "3.11.5"
  }
 },
 "nbformat": 4,
 "nbformat_minor": 2
}
